{
 "cells": [
  {
   "cell_type": "code",
   "execution_count": 2,
   "id": "056ec09d-5888-417a-9a4e-753e99e2321d",
   "metadata": {},
   "outputs": [
    {
     "name": "stdout",
     "output_type": "stream",
     "text": [
      "C:\\Users\\DELL\\Desktop\\LLMs\n",
      "['.ipynb_checkpoints', 'input-target_pair.ipynb', 'the-verdict.txt', 'Token.ipynb']\n"
     ]
    }
   ],
   "source": [
    "import os\n",
    "print(os.getcwd())  # Shows current working directory\n",
    "print(os.listdir())\n",
    "      "
   ]
  },
  {
   "cell_type": "code",
   "execution_count": 4,
   "id": "a3b8ba2c-3c51-4238-8dff-cb02eb41ab08",
   "metadata": {},
   "outputs": [
    {
     "name": "stdout",
     "output_type": "stream",
     "text": [
      "Total number of character: 20479\n",
      "I HAD always thought Jack Gisburn rather a cheap genius--though a good fellow enough--so it was no \n"
     ]
    }
   ],
   "source": [
    "with open(\"the-verdict.txt\", \"r\", encoding=\"utf-8\") as f:\n",
    "    raw_text = f.read()\n",
    "    \n",
    "print(\"Total number of character:\", len(raw_text))\n",
    "print(raw_text[:99])"
   ]
  },
  {
   "cell_type": "code",
   "execution_count": 25,
   "id": "87c8e552-913e-4391-8fd8-9c1519b14653",
   "metadata": {},
   "outputs": [
    {
     "name": "stdout",
     "output_type": "stream",
     "text": [
      "Requirement already satisfied: pip in c:\\users\\dell\\appdata\\local\\programs\\python\\python311\\lib\\site-packages (25.2)\n",
      "Note: you may need to restart the kernel to use updated packages.\n"
     ]
    }
   ],
   "source": [
    "pip install --upgrade pip\n"
   ]
  },
  {
   "cell_type": "code",
   "execution_count": 5,
   "id": "83baffc0-72b7-44f9-bc37-62cca3169b41",
   "metadata": {},
   "outputs": [
    {
     "name": "stdout",
     "output_type": "stream",
     "text": [
      "['Hello,', ' ', 'world.', ' ', 'This,', ' ', 'is', ' ', 'a', ' ', 'test.']\n"
     ]
    }
   ],
   "source": [
    "import re\n",
    "\n",
    "text = \"Hello, world. This, is a test.\"\n",
    "result = re.split(r'(\\s)', text)\n",
    "\n",
    "print(result)"
   ]
  },
  {
   "cell_type": "code",
   "execution_count": 6,
   "id": "5b8244ba-ba8a-4113-bc7d-805575c8afde",
   "metadata": {},
   "outputs": [
    {
     "name": "stdout",
     "output_type": "stream",
     "text": [
      "['Hello', ',', '', ' ', 'world', '.', '', ' ', 'This', ',', '', ' ', 'is', ' ', 'a', ' ', 'test', '.', '']\n"
     ]
    }
   ],
   "source": [
    "result = re.split(r'([,.]|\\s)', text)\n",
    "\n",
    "print(result)"
   ]
  },
  {
   "cell_type": "code",
   "execution_count": 7,
   "id": "d1f6e336-ba54-4a25-9f54-ed0f6c690310",
   "metadata": {},
   "outputs": [
    {
     "name": "stdout",
     "output_type": "stream",
     "text": [
      "['Hello', ',', 'world', '.', 'This', ',', 'is', 'a', 'test', '.']\n"
     ]
    }
   ],
   "source": [
    "result = [item for item in result if item.strip()]\n",
    "print(result)"
   ]
  },
  {
   "cell_type": "code",
   "execution_count": 8,
   "id": "1a593e3d-368e-4cbc-a45e-44803e6cc0b8",
   "metadata": {},
   "outputs": [
    {
     "name": "stdout",
     "output_type": "stream",
     "text": [
      "['Hello', ',', 'world', '.', 'Is', 'this', '--', 'a', 'test', '?']\n"
     ]
    }
   ],
   "source": [
    "text = \"Hello, world. Is this-- a test?\"\n",
    "result = re.split(r'([,.:;?_\"!()\\']|--|\\s)', text)\n",
    "result = [item.strip() for item in result if item.strip()]\n",
    "print(result)"
   ]
  },
  {
   "cell_type": "code",
   "execution_count": 9,
   "id": "f581e8de-a0e1-42e8-9255-13b0e266e5a6",
   "metadata": {},
   "outputs": [
    {
     "name": "stdout",
     "output_type": "stream",
     "text": [
      "['I', 'HAD', 'always', 'thought', 'Jack', 'Gisburn', 'rather', 'a', 'cheap', 'genius', '--', 'though', 'a', 'good', 'fellow', 'enough', '--', 'so', 'it', 'was', 'no', 'great', 'surprise', 'to', 'me', 'to', 'hear', 'that', ',', 'in']\n"
     ]
    }
   ],
   "source": [
    "preprocessed = re.split(r'([,.:;?_!\"()\\']|--|\\s)', raw_text)\n",
    "preprocessed = [item.strip() for item in preprocessed if item.strip()]\n",
    "print(preprocessed[:30])"
   ]
  },
  {
   "cell_type": "code",
   "execution_count": 10,
   "id": "5a37e989-35ab-4d66-ae89-796c06774977",
   "metadata": {},
   "outputs": [
    {
     "name": "stdout",
     "output_type": "stream",
     "text": [
      "4690\n"
     ]
    }
   ],
   "source": [
    "print(len(preprocessed))"
   ]
  },
  {
   "cell_type": "markdown",
   "id": "d94c7bc6-6a0d-4d10-a584-ff300363725e",
   "metadata": {},
   "source": [
    "Step 2- Token ID"
   ]
  },
  {
   "cell_type": "code",
   "execution_count": 11,
   "id": "8a549268-90b8-41c0-abc4-159d94037305",
   "metadata": {},
   "outputs": [
    {
     "name": "stdout",
     "output_type": "stream",
     "text": [
      "1130\n"
     ]
    }
   ],
   "source": [
    "all_words = sorted(set(preprocessed))\n",
    "vocab_size = len(all_words)\n",
    "\n",
    "print(vocab_size)"
   ]
  },
  {
   "cell_type": "code",
   "execution_count": 12,
   "id": "2b5061af-e617-4fb3-ab7a-0568e0dbda29",
   "metadata": {},
   "outputs": [],
   "source": [
    "vocab = {token:integer for integer,token in enumerate(all_words)}"
   ]
  },
  {
   "cell_type": "code",
   "execution_count": 13,
   "id": "05a79f06-f04d-46e9-8a12-e466f3950cae",
   "metadata": {},
   "outputs": [
    {
     "name": "stdout",
     "output_type": "stream",
     "text": [
      "('!', 0)\n",
      "('\"', 1)\n",
      "(\"'\", 2)\n",
      "('(', 3)\n",
      "(')', 4)\n",
      "(',', 5)\n",
      "('--', 6)\n",
      "('.', 7)\n",
      "(':', 8)\n",
      "(';', 9)\n",
      "('?', 10)\n",
      "('A', 11)\n",
      "('Ah', 12)\n",
      "('Among', 13)\n",
      "('And', 14)\n",
      "('Are', 15)\n",
      "('Arrt', 16)\n",
      "('As', 17)\n",
      "('At', 18)\n",
      "('Be', 19)\n",
      "('Begin', 20)\n",
      "('Burlington', 21)\n",
      "('But', 22)\n",
      "('By', 23)\n",
      "('Carlo', 24)\n",
      "('Chicago', 25)\n",
      "('Claude', 26)\n",
      "('Come', 27)\n",
      "('Croft', 28)\n",
      "('Destroyed', 29)\n",
      "('Devonshire', 30)\n",
      "('Don', 31)\n",
      "('Dubarry', 32)\n",
      "('Emperors', 33)\n",
      "('Florence', 34)\n",
      "('For', 35)\n",
      "('Gallery', 36)\n",
      "('Gideon', 37)\n",
      "('Gisburn', 38)\n",
      "('Gisburns', 39)\n",
      "('Grafton', 40)\n",
      "('Greek', 41)\n",
      "('Grindle', 42)\n",
      "('Grindles', 43)\n",
      "('HAD', 44)\n",
      "('Had', 45)\n",
      "('Hang', 46)\n",
      "('Has', 47)\n",
      "('He', 48)\n",
      "('Her', 49)\n",
      "('Hermia', 50)\n"
     ]
    }
   ],
   "source": [
    "for i, item in enumerate(vocab.items()):\n",
    "    print(item)\n",
    "    if i>= 50:\n",
    "        break\n",
    "\n"
   ]
  },
  {
   "cell_type": "raw",
   "id": "73710b23-22ca-4312-843c-46f4f0eee697",
   "metadata": {},
   "source": [
    "Tokenizar Class for encode & decode\n"
   ]
  },
  {
   "cell_type": "code",
   "execution_count": 14,
   "id": "fd5051c7-a854-4ffe-9fab-38df73436752",
   "metadata": {},
   "outputs": [],
   "source": [
    "class SimpleTokenizerV1:\n",
    "    def __init__(self, vocab):\n",
    "        self.str_to_int = vocab\n",
    "        self.int_to_str = {i:s for s,i in vocab.items()}\n",
    "\n",
    "    def encode(self,text):\n",
    "        preprocessed = re.split(r'([,.;:_!\"()\\']|--|\\s)', text)\n",
    "\n",
    "        preprocessed = [item.strip() for item in preprocessed if item.strip()]\n",
    "        ids = [self.str_to_int[s] for s in preprocessed ]\n",
    "        return ids\n",
    "\n",
    "    def decode(self, ids):\n",
    "        text = \" \".join([self.int_to_str[i] for i in ids])\n",
    "        # Replace spaces before the specified punctuations\n",
    "        text = re.sub(r'\\s+([,.?!\"()\\'])', r'\\1', text)\n",
    "        return text"
   ]
  },
  {
   "cell_type": "code",
   "execution_count": 15,
   "id": "cd9763b0-e0c8-46dd-890e-840698d2cf1d",
   "metadata": {},
   "outputs": [
    {
     "name": "stdout",
     "output_type": "stream",
     "text": [
      "[1, 56, 2, 850, 988, 602, 533, 746, 5, 1126, 596, 5, 1, 67, 7, 38, 851, 1108, 754, 793, 7]\n"
     ]
    }
   ],
   "source": [
    "tokenizer = SimpleTokenizerV1(vocab)\n",
    "\n",
    "text = \"\"\"\"It's the last he painted, you know,\" \n",
    "           Mrs. Gisburn said with pardonable pride.\"\"\"\n",
    "ids = tokenizer.encode(text)\n",
    "print(ids)"
   ]
  },
  {
   "cell_type": "code",
   "execution_count": 16,
   "id": "0f797209-c214-45c6-8793-0ac269b15cb4",
   "metadata": {},
   "outputs": [
    {
     "data": {
      "text/plain": [
       "'\" It\\' s the last he painted, you know,\" Mrs. Gisburn said with pardonable pride.'"
      ]
     },
     "execution_count": 16,
     "metadata": {},
     "output_type": "execute_result"
    }
   ],
   "source": [
    "tokenizer.decode(ids)"
   ]
  },
  {
   "cell_type": "code",
   "execution_count": 17,
   "id": "cd91a2b3-dbe5-454d-b02c-f1434a4152ff",
   "metadata": {},
   "outputs": [
    {
     "ename": "KeyError",
     "evalue": "'Hello'",
     "output_type": "error",
     "traceback": [
      "\u001b[1;31m---------------------------------------------------------------------------\u001b[0m",
      "\u001b[1;31mKeyError\u001b[0m                                  Traceback (most recent call last)",
      "Cell \u001b[1;32mIn[17], line 2\u001b[0m\n\u001b[0;32m      1\u001b[0m text \u001b[38;5;241m=\u001b[39m \u001b[38;5;124m\"\u001b[39m\u001b[38;5;124mHello, do you like tea?\u001b[39m\u001b[38;5;124m\"\u001b[39m\n\u001b[1;32m----> 2\u001b[0m \u001b[38;5;28mprint\u001b[39m(\u001b[43mtokenizer\u001b[49m\u001b[38;5;241;43m.\u001b[39;49m\u001b[43mencode\u001b[49m\u001b[43m(\u001b[49m\u001b[43mtext\u001b[49m\u001b[43m)\u001b[49m)\n",
      "Cell \u001b[1;32mIn[14], line 10\u001b[0m, in \u001b[0;36mSimpleTokenizerV1.encode\u001b[1;34m(self, text)\u001b[0m\n\u001b[0;32m      7\u001b[0m preprocessed \u001b[38;5;241m=\u001b[39m re\u001b[38;5;241m.\u001b[39msplit(\u001b[38;5;124mr\u001b[39m\u001b[38;5;124m'\u001b[39m\u001b[38;5;124m([,.;:_!\u001b[39m\u001b[38;5;124m\"\u001b[39m\u001b[38;5;124m()\u001b[39m\u001b[38;5;130;01m\\'\u001b[39;00m\u001b[38;5;124m]|--|\u001b[39m\u001b[38;5;124m\\\u001b[39m\u001b[38;5;124ms)\u001b[39m\u001b[38;5;124m'\u001b[39m, text)\n\u001b[0;32m      9\u001b[0m preprocessed \u001b[38;5;241m=\u001b[39m [item\u001b[38;5;241m.\u001b[39mstrip() \u001b[38;5;28;01mfor\u001b[39;00m item \u001b[38;5;129;01min\u001b[39;00m preprocessed \u001b[38;5;28;01mif\u001b[39;00m item\u001b[38;5;241m.\u001b[39mstrip()]\n\u001b[1;32m---> 10\u001b[0m ids \u001b[38;5;241m=\u001b[39m \u001b[43m[\u001b[49m\u001b[38;5;28;43mself\u001b[39;49m\u001b[38;5;241;43m.\u001b[39;49m\u001b[43mstr_to_int\u001b[49m\u001b[43m[\u001b[49m\u001b[43ms\u001b[49m\u001b[43m]\u001b[49m\u001b[43m \u001b[49m\u001b[38;5;28;43;01mfor\u001b[39;49;00m\u001b[43m \u001b[49m\u001b[43ms\u001b[49m\u001b[43m \u001b[49m\u001b[38;5;129;43;01min\u001b[39;49;00m\u001b[43m \u001b[49m\u001b[43mpreprocessed\u001b[49m\u001b[43m \u001b[49m\u001b[43m]\u001b[49m\n\u001b[0;32m     11\u001b[0m \u001b[38;5;28;01mreturn\u001b[39;00m ids\n",
      "Cell \u001b[1;32mIn[14], line 10\u001b[0m, in \u001b[0;36m<listcomp>\u001b[1;34m(.0)\u001b[0m\n\u001b[0;32m      7\u001b[0m preprocessed \u001b[38;5;241m=\u001b[39m re\u001b[38;5;241m.\u001b[39msplit(\u001b[38;5;124mr\u001b[39m\u001b[38;5;124m'\u001b[39m\u001b[38;5;124m([,.;:_!\u001b[39m\u001b[38;5;124m\"\u001b[39m\u001b[38;5;124m()\u001b[39m\u001b[38;5;130;01m\\'\u001b[39;00m\u001b[38;5;124m]|--|\u001b[39m\u001b[38;5;124m\\\u001b[39m\u001b[38;5;124ms)\u001b[39m\u001b[38;5;124m'\u001b[39m, text)\n\u001b[0;32m      9\u001b[0m preprocessed \u001b[38;5;241m=\u001b[39m [item\u001b[38;5;241m.\u001b[39mstrip() \u001b[38;5;28;01mfor\u001b[39;00m item \u001b[38;5;129;01min\u001b[39;00m preprocessed \u001b[38;5;28;01mif\u001b[39;00m item\u001b[38;5;241m.\u001b[39mstrip()]\n\u001b[1;32m---> 10\u001b[0m ids \u001b[38;5;241m=\u001b[39m [\u001b[38;5;28;43mself\u001b[39;49m\u001b[38;5;241;43m.\u001b[39;49m\u001b[43mstr_to_int\u001b[49m\u001b[43m[\u001b[49m\u001b[43ms\u001b[49m\u001b[43m]\u001b[49m \u001b[38;5;28;01mfor\u001b[39;00m s \u001b[38;5;129;01min\u001b[39;00m preprocessed ]\n\u001b[0;32m     11\u001b[0m \u001b[38;5;28;01mreturn\u001b[39;00m ids\n",
      "\u001b[1;31mKeyError\u001b[0m: 'Hello'"
     ]
    }
   ],
   "source": [
    "text = \"Hello, do you like tea?\"\n",
    "print(tokenizer.encode(text))"
   ]
  },
  {
   "cell_type": "code",
   "execution_count": 18,
   "id": "9ff998f9-411a-4181-b234-699e46a743f0",
   "metadata": {},
   "outputs": [],
   "source": [
    "all_tokens = sorted(list(set(preprocessed)))\n",
    "all_tokens.extend([\"<|endoftext|>\",\"<|unk|>\"])\n",
    "\n",
    "vocab = {token:integer for integer,token in enumerate(all_tokens)}"
   ]
  },
  {
   "cell_type": "code",
   "execution_count": 19,
   "id": "e308406c-61c6-4102-8c6f-6f97bd964a32",
   "metadata": {},
   "outputs": [
    {
     "data": {
      "text/plain": [
       "1132"
      ]
     },
     "execution_count": 19,
     "metadata": {},
     "output_type": "execute_result"
    }
   ],
   "source": [
    "len(vocab.items())"
   ]
  },
  {
   "cell_type": "code",
   "execution_count": 20,
   "id": "c3496152-1dac-4e3c-ac50-e31a5ca57a04",
   "metadata": {},
   "outputs": [
    {
     "name": "stdout",
     "output_type": "stream",
     "text": [
      "('younger', 1127)\n",
      "('your', 1128)\n",
      "('yourself', 1129)\n",
      "('<|endoftext|>', 1130)\n",
      "('<|unk|>', 1131)\n"
     ]
    }
   ],
   "source": [
    "for i,item in enumerate(list(vocab.items())[-5:]):\n",
    "    print(item)"
   ]
  },
  {
   "cell_type": "code",
   "execution_count": 21,
   "id": "f06f25d1-ccaa-4ffd-9bab-6f2e281cd815",
   "metadata": {},
   "outputs": [],
   "source": [
    "class SimpleTokenizerV2:\n",
    "    def __init__(self, vocab):\n",
    "        self.str_to_int = vocab\n",
    "        self.int_to_str = { i:s for s,i in vocab.items()}\n",
    "    \n",
    "    def encode(self, text):\n",
    "        preprocessed = re.split(r'([,.:;?_!\"()\\']|--|\\s)', text)\n",
    "        preprocessed = [item.strip() for item in preprocessed if item.strip()]\n",
    "        preprocessed = [\n",
    "            item if item in self.str_to_int \n",
    "            else \"<|unk|>\" for item in preprocessed\n",
    "        ]\n",
    "\n",
    "        ids = [self.str_to_int[s] for s in preprocessed]\n",
    "        return ids\n",
    "        \n",
    "    def decode(self, ids):\n",
    "        text = \" \".join([self.int_to_str[i] for i in ids])\n",
    "        # Replace spaces before the specified punctuations\n",
    "        text = re.sub(r'\\s+([,.:;?!\"()\\'])', r'\\1', text)\n",
    "        return text"
   ]
  },
  {
   "cell_type": "code",
   "execution_count": 22,
   "id": "9d0010e7-84b1-4a4d-a652-0d9bd8425ec9",
   "metadata": {},
   "outputs": [
    {
     "name": "stdout",
     "output_type": "stream",
     "text": [
      "Hello, do you like tea? <|endoftext|> In the sunlit terraces of the palace.\n"
     ]
    }
   ],
   "source": [
    "tokenizer = SimpleTokenizerV2(vocab)\n",
    "\n",
    "text1 = \"Hello, do you like tea?\"\n",
    "text2 = \"In the sunlit terraces of the palace.\"\n",
    "\n",
    "text = \" <|endoftext|> \".join((text1, text2))\n",
    "\n",
    "print(text)"
   ]
  },
  {
   "cell_type": "code",
   "execution_count": 23,
   "id": "8136670d-edf0-4375-9d1e-eb8e54dca9b3",
   "metadata": {},
   "outputs": [
    {
     "data": {
      "text/plain": [
       "[1131, 5, 355, 1126, 628, 975, 10, 1130, 55, 988, 956, 984, 722, 988, 1131, 7]"
      ]
     },
     "execution_count": 23,
     "metadata": {},
     "output_type": "execute_result"
    }
   ],
   "source": [
    "tokenizer.encode(text)"
   ]
  },
  {
   "cell_type": "code",
   "execution_count": 24,
   "id": "69b68df6-04fa-4594-9323-cde14cdcafb9",
   "metadata": {},
   "outputs": [
    {
     "data": {
      "text/plain": [
       "'<|unk|>, do you like tea? <|endoftext|> In the sunlit terraces of the <|unk|>.'"
      ]
     },
     "execution_count": 24,
     "metadata": {},
     "output_type": "execute_result"
    }
   ],
   "source": [
    "tokenizer.decode(tokenizer.encode(text))"
   ]
  },
  {
   "cell_type": "raw",
   "id": "35930fc4-1d6d-4a66-aeb2-7088c76ae515",
   "metadata": {},
   "source": [
    "Byte Pair Encoding\n"
   ]
  },
  {
   "cell_type": "code",
   "execution_count": 25,
   "id": "ee510056-9e0e-49ca-9aa5-5285798ebe55",
   "metadata": {},
   "outputs": [
    {
     "name": "stdout",
     "output_type": "stream",
     "text": [
      "Requirement already satisfied: tiktoken in c:\\users\\dell\\appdata\\local\\programs\\python\\python313\\lib\\site-packages (0.9.0)\n",
      "Requirement already satisfied: regex>=2022.1.18 in c:\\users\\dell\\appdata\\local\\programs\\python\\python313\\lib\\site-packages (from tiktoken) (2025.7.34)\n",
      "Requirement already satisfied: requests>=2.26.0 in c:\\users\\dell\\appdata\\local\\programs\\python\\python313\\lib\\site-packages (from tiktoken) (2.32.3)\n",
      "Requirement already satisfied: charset-normalizer<4,>=2 in c:\\users\\dell\\appdata\\local\\programs\\python\\python313\\lib\\site-packages (from requests>=2.26.0->tiktoken) (3.4.2)\n",
      "Requirement already satisfied: idna<4,>=2.5 in c:\\users\\dell\\appdata\\local\\programs\\python\\python313\\lib\\site-packages (from requests>=2.26.0->tiktoken) (3.10)\n",
      "Requirement already satisfied: urllib3<3,>=1.21.1 in c:\\users\\dell\\appdata\\local\\programs\\python\\python313\\lib\\site-packages (from requests>=2.26.0->tiktoken) (2.4.0)\n",
      "Requirement already satisfied: certifi>=2017.4.17 in c:\\users\\dell\\appdata\\local\\programs\\python\\python313\\lib\\site-packages (from requests>=2.26.0->tiktoken) (2025.4.26)\n"
     ]
    },
    {
     "name": "stderr",
     "output_type": "stream",
     "text": [
      "\n",
      "[notice] A new release of pip is available: 25.0.1 -> 25.2\n",
      "[notice] To update, run: python.exe -m pip install --upgrade pip\n"
     ]
    }
   ],
   "source": [
    "! pip3 install tiktoken\n"
   ]
  },
  {
   "cell_type": "code",
   "execution_count": 25,
   "id": "fb3055cf-d0f8-42f6-8740-e7a400896f64",
   "metadata": {},
   "outputs": [
    {
     "name": "stdout",
     "output_type": "stream",
     "text": [
      "tiktoken version: 0.9.0\n"
     ]
    }
   ],
   "source": [
    "import importlib\n",
    "import tiktoken\n",
    "\n",
    "print(\"tiktoken version:\", importlib.metadata.version(\"tiktoken\"))"
   ]
  },
  {
   "cell_type": "code",
   "execution_count": 26,
   "id": "1646db68-aadc-44a4-b189-b6a2bd39b5a7",
   "metadata": {},
   "outputs": [
    {
     "name": "stdout",
     "output_type": "stream",
     "text": [
      "Requirement already satisfied: pip in c:\\users\\dell\\appdata\\local\\programs\\python\\python311\\lib\\site-packages (25.2)\n",
      "Note: you may need to restart the kernel to use updated packages.\n"
     ]
    }
   ],
   "source": [
    "pip install --upgrade pip\n"
   ]
  },
  {
   "cell_type": "code",
   "execution_count": 27,
   "id": "540455af-e6da-4455-8925-4dc9a4d239c1",
   "metadata": {},
   "outputs": [
    {
     "name": "stdout",
     "output_type": "stream",
     "text": [
      "C:\\Users\\DELL\\AppData\\Local\\Programs\\Python\\Python311\\python.exe\n"
     ]
    }
   ],
   "source": [
    "import sys\n",
    "print(sys.executable)\n"
   ]
  },
  {
   "cell_type": "code",
   "execution_count": 10,
   "id": "e876359e-de8e-40d9-8f7b-95f67020410d",
   "metadata": {},
   "outputs": [
    {
     "name": "stdout",
     "output_type": "stream",
     "text": [
      "Collecting tiktoken\n",
      "  Downloading tiktoken-0.9.0-cp311-cp311-win_amd64.whl.metadata (6.8 kB)\n",
      "Collecting regex>=2022.1.18 (from tiktoken)\n",
      "  Downloading regex-2025.7.34-cp311-cp311-win_amd64.whl.metadata (41 kB)\n",
      "Requirement already satisfied: requests>=2.26.0 in c:\\users\\dell\\appdata\\local\\programs\\python\\python311\\lib\\site-packages (from tiktoken) (2.31.0)\n",
      "Requirement already satisfied: charset-normalizer<4,>=2 in c:\\users\\dell\\appdata\\local\\programs\\python\\python311\\lib\\site-packages (from requests>=2.26.0->tiktoken) (3.3.2)\n",
      "Requirement already satisfied: idna<4,>=2.5 in c:\\users\\dell\\appdata\\local\\programs\\python\\python311\\lib\\site-packages (from requests>=2.26.0->tiktoken) (3.6)\n",
      "Requirement already satisfied: urllib3<3,>=1.21.1 in c:\\users\\dell\\appdata\\local\\programs\\python\\python311\\lib\\site-packages (from requests>=2.26.0->tiktoken) (2.2.1)\n",
      "Requirement already satisfied: certifi>=2017.4.17 in c:\\users\\dell\\appdata\\local\\programs\\python\\python311\\lib\\site-packages (from requests>=2.26.0->tiktoken) (2024.2.2)\n",
      "Downloading tiktoken-0.9.0-cp311-cp311-win_amd64.whl (893 kB)\n",
      "   ---------------------------------------- 0.0/893.9 kB ? eta -:--:--\n",
      "   ----------- ---------------------------- 262.1/893.9 kB ? eta -:--:--\n",
      "   ----------------------------------- ---- 786.4/893.9 kB 2.6 MB/s eta 0:00:01\n",
      "   ---------------------------------------- 893.9/893.9 kB 2.1 MB/s  0:00:00\n",
      "Downloading regex-2025.7.34-cp311-cp311-win_amd64.whl (276 kB)\n",
      "Installing collected packages: regex, tiktoken\n",
      "\n",
      "   ---------------------------------------- 0/2 [regex]\n",
      "   -------------------- ------------------- 1/2 [tiktoken]\n",
      "   ---------------------------------------- 2/2 [tiktoken]\n",
      "\n",
      "Successfully installed regex-2025.7.34 tiktoken-0.9.0\n"
     ]
    }
   ],
   "source": [
    "!{sys.executable} -m pip install tiktoken\n"
   ]
  },
  {
   "cell_type": "code",
   "execution_count": 28,
   "id": "6c3db793-a453-4f27-ab27-878de2972e64",
   "metadata": {},
   "outputs": [],
   "source": [
    "tokenizer = tiktoken.get_encoding(\"gpt2\")"
   ]
  },
  {
   "cell_type": "code",
   "execution_count": 29,
   "id": "2facc438-09ef-4323-bffa-387a055357c7",
   "metadata": {},
   "outputs": [
    {
     "name": "stdout",
     "output_type": "stream",
     "text": [
      "[15496, 11, 466, 345, 588, 8887, 30, 220, 50256, 554, 262, 4252, 18250, 8812, 2114, 1659, 617, 34680, 27271, 13]\n"
     ]
    }
   ],
   "source": [
    "text = (\n",
    "    \"Hello, do you like tea? <|endoftext|> In the sunlit terraces\"\n",
    "     \"of someunknownPlace.\"\n",
    ")\n",
    "\n",
    "integers = tokenizer.encode(text, allowed_special={\"<|endoftext|>\"})\n",
    "\n",
    "print(integers)"
   ]
  },
  {
   "cell_type": "code",
   "execution_count": 30,
   "id": "54987f4f-519d-4bb7-8566-54c6f4ce0efa",
   "metadata": {},
   "outputs": [
    {
     "name": "stdout",
     "output_type": "stream",
     "text": [
      "Hello, do you like tea? <|endoftext|> In the sunlit terracesof someunknownPlace.\n"
     ]
    }
   ],
   "source": [
    "strings = tokenizer.decode(integers)\n",
    "\n",
    "print(strings)"
   ]
  },
  {
   "cell_type": "raw",
   "id": "c5144618-6d80-4014-8c00-2932b5551031",
   "metadata": {},
   "source": [
    "Input_target Pair"
   ]
  },
  {
   "cell_type": "code",
   "execution_count": 31,
   "id": "a1935750-d8ec-4353-9215-b746a6e77a95",
   "metadata": {},
   "outputs": [
    {
     "name": "stdout",
     "output_type": "stream",
     "text": [
      "5145\n"
     ]
    }
   ],
   "source": [
    "with open(\"the-verdict.txt\", \"r\", encoding=\"utf-8\") as f:\n",
    "    raw_text = f.read()\n",
    "\n",
    "enc_text = tokenizer.encode(raw_text)\n",
    "print(len(enc_text))"
   ]
  },
  {
   "cell_type": "code",
   "execution_count": 32,
   "id": "40b7b36b-7688-4233-8da5-81cae1897b10",
   "metadata": {},
   "outputs": [],
   "source": [
    "enc_sample = enc_text[50:]"
   ]
  },
  {
   "cell_type": "code",
   "execution_count": 33,
   "id": "3f806fca-a91a-475a-9c58-f6247b452094",
   "metadata": {},
   "outputs": [
    {
     "name": "stdout",
     "output_type": "stream",
     "text": [
      "x: [290, 4920, 2241, 287]\n",
      "y:      [4920, 2241, 287, 257]\n"
     ]
    }
   ],
   "source": [
    "context_size = 4\n",
    "\n",
    "x = enc_sample[:context_size]\n",
    "y = enc_sample[1:context_size+1]\n",
    "\n",
    "print(f\"x: {x}\")\n",
    "print(f\"y:      {y}\")"
   ]
  },
  {
   "cell_type": "code",
   "execution_count": 34,
   "id": "2949c9ce-6c3c-47f9-8794-2ac83389b7d0",
   "metadata": {},
   "outputs": [
    {
     "name": "stdout",
     "output_type": "stream",
     "text": [
      "[290] ---> 4920\n",
      "[290, 4920] ---> 2241\n",
      "[290, 4920, 2241] ---> 287\n",
      "[290, 4920, 2241, 287] ---> 257\n"
     ]
    }
   ],
   "source": [
    "for i in range(1, context_size+1):\n",
    "    context = enc_sample[:i]\n",
    "    desired = enc_sample[i]\n",
    "    print(context, \"--->\", desired)"
   ]
  },
  {
   "cell_type": "code",
   "execution_count": 35,
   "id": "7e6fcb0b-23ef-4a09-9fda-e03d3e88da24",
   "metadata": {},
   "outputs": [
    {
     "name": "stdout",
     "output_type": "stream",
     "text": [
      " and --->  established\n",
      " and established --->  himself\n",
      " and established himself --->  in\n",
      " and established himself in --->  a\n"
     ]
    }
   ],
   "source": [
    "for i in range(1, context_size+1):\n",
    "    context = enc_sample[:i]\n",
    "    desired = enc_sample[i]\n",
    "    print(tokenizer.decode(context), \"--->\", tokenizer.decode([desired]))"
   ]
  },
  {
   "cell_type": "code",
   "execution_count": 41,
   "id": "dc28f1ec-0a5e-4eae-944c-17acf56b8940",
   "metadata": {},
   "outputs": [
    {
     "name": "stdout",
     "output_type": "stream",
     "text": [
      "Collecting torch\n",
      "  Downloading torch-2.7.1-cp311-cp311-win_amd64.whl.metadata (28 kB)\n",
      "Collecting torchvision\n",
      "  Downloading torchvision-0.22.1-cp311-cp311-win_amd64.whl.metadata (6.1 kB)\n",
      "Collecting torchaudio\n",
      "  Downloading torchaudio-2.7.1-cp311-cp311-win_amd64.whl.metadata (6.6 kB)\n",
      "Collecting filelock (from torch)\n",
      "  Using cached filelock-3.18.0-py3-none-any.whl.metadata (2.9 kB)\n",
      "Collecting typing-extensions>=4.10.0 (from torch)\n",
      "  Downloading typing_extensions-4.14.1-py3-none-any.whl.metadata (3.0 kB)\n",
      "Collecting sympy>=1.13.3 (from torch)\n",
      "  Downloading sympy-1.14.0-py3-none-any.whl.metadata (12 kB)\n",
      "Collecting networkx (from torch)\n",
      "  Downloading networkx-3.5-py3-none-any.whl.metadata (6.3 kB)\n",
      "Requirement already satisfied: jinja2 in c:\\users\\dell\\appdata\\local\\programs\\python\\python311\\lib\\site-packages (from torch) (3.1.3)\n",
      "Collecting fsspec (from torch)\n",
      "  Downloading fsspec-2025.7.0-py3-none-any.whl.metadata (12 kB)\n",
      "Requirement already satisfied: numpy in c:\\users\\dell\\appdata\\local\\programs\\python\\python311\\lib\\site-packages (from torchvision) (1.26.4)\n",
      "Requirement already satisfied: pillow!=8.3.*,>=5.3.0 in c:\\users\\dell\\appdata\\local\\programs\\python\\python311\\lib\\site-packages (from torchvision) (11.2.1)\n",
      "Collecting mpmath<1.4,>=1.1.0 (from sympy>=1.13.3->torch)\n",
      "  Using cached mpmath-1.3.0-py3-none-any.whl.metadata (8.6 kB)\n",
      "Requirement already satisfied: MarkupSafe>=2.0 in c:\\users\\dell\\appdata\\local\\programs\\python\\python311\\lib\\site-packages (from jinja2->torch) (2.1.5)\n",
      "Downloading torch-2.7.1-cp311-cp311-win_amd64.whl (216.1 MB)\n",
      "   ---------------------------------------- 0.0/216.1 MB ? eta -:--:--\n",
      "   ---------------------------------------- 1.3/216.1 MB 7.4 MB/s eta 0:00:29\n",
      "   ---------------------------------------- 2.4/216.1 MB 5.8 MB/s eta 0:00:37\n",
      "    --------------------------------------- 3.4/216.1 MB 5.6 MB/s eta 0:00:39\n",
      "    --------------------------------------- 4.5/216.1 MB 5.4 MB/s eta 0:00:40\n",
      "   - -------------------------------------- 5.5/216.1 MB 5.2 MB/s eta 0:00:41\n",
      "   - -------------------------------------- 6.6/216.1 MB 5.2 MB/s eta 0:00:41\n",
      "   - -------------------------------------- 7.6/216.1 MB 5.1 MB/s eta 0:00:41\n",
      "   - -------------------------------------- 8.7/216.1 MB 5.1 MB/s eta 0:00:41\n",
      "   - -------------------------------------- 9.7/216.1 MB 5.1 MB/s eta 0:00:41\n",
      "   - -------------------------------------- 10.7/216.1 MB 5.0 MB/s eta 0:00:41\n",
      "   -- ------------------------------------- 11.8/216.1 MB 5.0 MB/s eta 0:00:41\n",
      "   -- ------------------------------------- 12.8/216.1 MB 5.0 MB/s eta 0:00:41\n",
      "   -- ------------------------------------- 13.9/216.1 MB 5.0 MB/s eta 0:00:41\n",
      "   -- ------------------------------------- 14.9/216.1 MB 5.0 MB/s eta 0:00:41\n",
      "   -- ------------------------------------- 16.0/216.1 MB 5.0 MB/s eta 0:00:41\n",
      "   --- ------------------------------------ 17.0/216.1 MB 5.0 MB/s eta 0:00:41\n",
      "   --- ------------------------------------ 18.1/216.1 MB 5.0 MB/s eta 0:00:40\n",
      "   --- ------------------------------------ 19.1/216.1 MB 5.0 MB/s eta 0:00:40\n",
      "   --- ------------------------------------ 20.2/216.1 MB 5.0 MB/s eta 0:00:40\n",
      "   --- ------------------------------------ 21.2/216.1 MB 5.0 MB/s eta 0:00:40\n",
      "   ---- ----------------------------------- 22.3/216.1 MB 4.9 MB/s eta 0:00:40\n",
      "   ---- ----------------------------------- 23.3/216.1 MB 4.9 MB/s eta 0:00:40\n",
      "   ---- ----------------------------------- 23.9/216.1 MB 4.9 MB/s eta 0:00:39\n",
      "   ---- ----------------------------------- 24.4/216.1 MB 4.9 MB/s eta 0:00:40\n",
      "   ---- ----------------------------------- 24.4/216.1 MB 4.9 MB/s eta 0:00:40\n",
      "   ---- ----------------------------------- 24.4/216.1 MB 4.9 MB/s eta 0:00:40\n",
      "   ---- ----------------------------------- 24.4/216.1 MB 4.9 MB/s eta 0:00:40\n",
      "   ---- ----------------------------------- 24.4/216.1 MB 4.9 MB/s eta 0:00:40\n",
      "   ---- ----------------------------------- 24.6/216.1 MB 3.9 MB/s eta 0:00:49\n",
      "   ---- ----------------------------------- 24.6/216.1 MB 3.9 MB/s eta 0:00:49\n",
      "   ---- ----------------------------------- 26.0/216.1 MB 3.9 MB/s eta 0:00:50\n",
      "   ---- ----------------------------------- 27.0/216.1 MB 3.9 MB/s eta 0:00:49\n",
      "   ----- ---------------------------------- 28.0/216.1 MB 3.9 MB/s eta 0:00:48\n",
      "   ----- ---------------------------------- 29.4/216.1 MB 4.0 MB/s eta 0:00:48\n",
      "   ----- ---------------------------------- 30.1/216.1 MB 4.0 MB/s eta 0:00:47\n",
      "   ----- ---------------------------------- 31.5/216.1 MB 4.0 MB/s eta 0:00:46\n",
      "   ------ --------------------------------- 32.5/216.1 MB 4.0 MB/s eta 0:00:46\n",
      "   ------ --------------------------------- 33.6/216.1 MB 4.1 MB/s eta 0:00:45\n",
      "   ------ --------------------------------- 34.6/216.1 MB 4.1 MB/s eta 0:00:45\n",
      "   ------ --------------------------------- 35.7/216.1 MB 4.1 MB/s eta 0:00:44\n",
      "   ------ --------------------------------- 36.7/216.1 MB 4.1 MB/s eta 0:00:44\n",
      "   ------ --------------------------------- 37.7/216.1 MB 4.1 MB/s eta 0:00:44\n",
      "   ------- -------------------------------- 38.8/216.1 MB 4.2 MB/s eta 0:00:43\n",
      "   ------- -------------------------------- 39.8/216.1 MB 4.2 MB/s eta 0:00:43\n",
      "   ------- -------------------------------- 40.9/216.1 MB 4.2 MB/s eta 0:00:42\n",
      "   ------- -------------------------------- 41.9/216.1 MB 4.2 MB/s eta 0:00:42\n",
      "   ------- -------------------------------- 43.0/216.1 MB 4.2 MB/s eta 0:00:42\n",
      "   -------- ------------------------------- 44.0/216.1 MB 4.2 MB/s eta 0:00:41\n",
      "   -------- ------------------------------- 45.1/216.1 MB 4.2 MB/s eta 0:00:41\n",
      "   -------- ------------------------------- 45.9/216.1 MB 4.2 MB/s eta 0:00:41\n",
      "   -------- ------------------------------- 47.2/216.1 MB 4.3 MB/s eta 0:00:40\n",
      "   -------- ------------------------------- 48.2/216.1 MB 4.3 MB/s eta 0:00:40\n",
      "   --------- ------------------------------ 49.3/216.1 MB 4.3 MB/s eta 0:00:39\n",
      "   --------- ------------------------------ 50.3/216.1 MB 4.3 MB/s eta 0:00:39\n",
      "   --------- ------------------------------ 51.4/216.1 MB 4.3 MB/s eta 0:00:39\n",
      "   --------- ------------------------------ 52.4/216.1 MB 4.3 MB/s eta 0:00:38\n",
      "   --------- ------------------------------ 53.5/216.1 MB 4.3 MB/s eta 0:00:38\n",
      "   ---------- ----------------------------- 54.5/216.1 MB 4.3 MB/s eta 0:00:38\n",
      "   ---------- ----------------------------- 55.6/216.1 MB 4.3 MB/s eta 0:00:37\n",
      "   ---------- ----------------------------- 56.6/216.1 MB 4.4 MB/s eta 0:00:37\n",
      "   ---------- ----------------------------- 57.7/216.1 MB 4.4 MB/s eta 0:00:37\n",
      "   ---------- ----------------------------- 58.7/216.1 MB 4.4 MB/s eta 0:00:37\n",
      "   ----------- ---------------------------- 59.8/216.1 MB 4.4 MB/s eta 0:00:36\n",
      "   ----------- ---------------------------- 60.8/216.1 MB 4.4 MB/s eta 0:00:36\n",
      "   ----------- ---------------------------- 61.6/216.1 MB 4.4 MB/s eta 0:00:36\n",
      "   ----------- ---------------------------- 62.9/216.1 MB 4.4 MB/s eta 0:00:35\n",
      "   ----------- ---------------------------- 64.0/216.1 MB 4.4 MB/s eta 0:00:35\n",
      "   ------------ --------------------------- 65.0/216.1 MB 4.4 MB/s eta 0:00:35\n",
      "   ------------ --------------------------- 66.1/216.1 MB 4.4 MB/s eta 0:00:34\n",
      "   ------------ --------------------------- 67.1/216.1 MB 4.4 MB/s eta 0:00:34\n",
      "   ------------ --------------------------- 68.2/216.1 MB 4.4 MB/s eta 0:00:34\n",
      "   ------------ --------------------------- 69.2/216.1 MB 4.4 MB/s eta 0:00:34\n",
      "   ------------- -------------------------- 70.3/216.1 MB 4.4 MB/s eta 0:00:33\n",
      "   ------------- -------------------------- 71.3/216.1 MB 4.4 MB/s eta 0:00:33\n",
      "   ------------- -------------------------- 72.4/216.1 MB 4.5 MB/s eta 0:00:33\n",
      "   ------------- -------------------------- 73.4/216.1 MB 4.5 MB/s eta 0:00:33\n",
      "   ------------- -------------------------- 74.4/216.1 MB 4.5 MB/s eta 0:00:32\n",
      "   ------------- -------------------------- 75.5/216.1 MB 4.5 MB/s eta 0:00:32\n",
      "   -------------- ------------------------- 76.5/216.1 MB 4.5 MB/s eta 0:00:32\n",
      "   -------------- ------------------------- 77.6/216.1 MB 4.5 MB/s eta 0:00:31\n",
      "   -------------- ------------------------- 78.6/216.1 MB 4.5 MB/s eta 0:00:31\n",
      "   -------------- ------------------------- 79.7/216.1 MB 4.5 MB/s eta 0:00:31\n",
      "   -------------- ------------------------- 80.7/216.1 MB 4.5 MB/s eta 0:00:31\n",
      "   -------------- ------------------------- 80.7/216.1 MB 4.5 MB/s eta 0:00:31\n",
      "   -------------- ------------------------- 80.7/216.1 MB 4.5 MB/s eta 0:00:31\n",
      "   -------------- ------------------------- 80.7/216.1 MB 4.5 MB/s eta 0:00:31\n",
      "   -------------- ------------------------- 80.7/216.1 MB 4.5 MB/s eta 0:00:31\n",
      "   -------------- ------------------------- 80.7/216.1 MB 4.5 MB/s eta 0:00:31\n",
      "   -------------- ------------------------- 80.7/216.1 MB 4.5 MB/s eta 0:00:31\n",
      "   -------------- ------------------------- 80.7/216.1 MB 4.5 MB/s eta 0:00:31\n",
      "   --------------- ------------------------ 81.3/216.1 MB 4.1 MB/s eta 0:00:33\n",
      "   --------------- ------------------------ 81.8/216.1 MB 4.1 MB/s eta 0:00:33\n",
      "   --------------- ------------------------ 82.8/216.1 MB 4.1 MB/s eta 0:00:33\n",
      "   --------------- ------------------------ 83.9/216.1 MB 4.1 MB/s eta 0:00:33\n",
      "   --------------- ------------------------ 84.9/216.1 MB 4.1 MB/s eta 0:00:32\n",
      "   --------------- ------------------------ 86.0/216.1 MB 4.1 MB/s eta 0:00:32\n",
      "   ---------------- ----------------------- 87.0/216.1 MB 4.1 MB/s eta 0:00:32\n",
      "   ---------------- ----------------------- 88.1/216.1 MB 4.1 MB/s eta 0:00:31\n",
      "   ---------------- ----------------------- 89.1/216.1 MB 4.2 MB/s eta 0:00:31\n",
      "   ---------------- ----------------------- 90.2/216.1 MB 4.2 MB/s eta 0:00:31\n",
      "   ---------------- ----------------------- 91.2/216.1 MB 4.2 MB/s eta 0:00:30\n",
      "   ----------------- ---------------------- 92.3/216.1 MB 4.2 MB/s eta 0:00:30\n",
      "   ----------------- ---------------------- 93.3/216.1 MB 4.2 MB/s eta 0:00:30\n",
      "   ----------------- ---------------------- 94.4/216.1 MB 4.2 MB/s eta 0:00:30\n",
      "   ----------------- ---------------------- 95.4/216.1 MB 4.2 MB/s eta 0:00:29\n",
      "   ----------------- ---------------------- 96.5/216.1 MB 4.2 MB/s eta 0:00:29\n",
      "   ------------------ --------------------- 97.5/216.1 MB 4.2 MB/s eta 0:00:29\n",
      "   ------------------ --------------------- 98.6/216.1 MB 4.2 MB/s eta 0:00:28\n",
      "   ------------------ --------------------- 99.6/216.1 MB 4.2 MB/s eta 0:00:28\n",
      "   ------------------ --------------------- 100.7/216.1 MB 4.2 MB/s eta 0:00:28\n",
      "   ------------------ --------------------- 101.7/216.1 MB 4.2 MB/s eta 0:00:28\n",
      "   ------------------- -------------------- 103.0/216.1 MB 4.2 MB/s eta 0:00:27\n",
      "   ------------------- -------------------- 104.1/216.1 MB 4.2 MB/s eta 0:00:27\n",
      "   ------------------- -------------------- 105.1/216.1 MB 4.2 MB/s eta 0:00:27\n",
      "   ------------------- -------------------- 106.2/216.1 MB 4.3 MB/s eta 0:00:26\n",
      "   ------------------- -------------------- 107.2/216.1 MB 4.3 MB/s eta 0:00:26\n",
      "   -------------------- ------------------- 108.3/216.1 MB 4.3 MB/s eta 0:00:26\n",
      "   -------------------- ------------------- 109.3/216.1 MB 4.3 MB/s eta 0:00:26\n",
      "   -------------------- ------------------- 110.4/216.1 MB 4.3 MB/s eta 0:00:25\n",
      "   -------------------- ------------------- 111.4/216.1 MB 4.3 MB/s eta 0:00:25\n",
      "   -------------------- ------------------- 112.5/216.1 MB 4.3 MB/s eta 0:00:25\n",
      "   --------------------- ------------------ 113.5/216.1 MB 4.3 MB/s eta 0:00:24\n",
      "   --------------------- ------------------ 114.6/216.1 MB 4.3 MB/s eta 0:00:24\n",
      "   --------------------- ------------------ 115.6/216.1 MB 4.3 MB/s eta 0:00:24\n",
      "   --------------------- ------------------ 116.7/216.1 MB 4.3 MB/s eta 0:00:24\n",
      "   --------------------- ------------------ 117.7/216.1 MB 4.3 MB/s eta 0:00:23\n",
      "   --------------------- ------------------ 118.8/216.1 MB 4.3 MB/s eta 0:00:23\n",
      "   ---------------------- ----------------- 119.8/216.1 MB 4.3 MB/s eta 0:00:23\n",
      "   ---------------------- ----------------- 120.8/216.1 MB 4.3 MB/s eta 0:00:23\n",
      "   ---------------------- ----------------- 121.9/216.1 MB 4.3 MB/s eta 0:00:22\n",
      "   ---------------------- ----------------- 122.9/216.1 MB 4.3 MB/s eta 0:00:22\n",
      "   ---------------------- ----------------- 124.0/216.1 MB 4.3 MB/s eta 0:00:22\n",
      "   ----------------------- ---------------- 125.0/216.1 MB 4.3 MB/s eta 0:00:22\n",
      "   ----------------------- ---------------- 126.1/216.1 MB 4.3 MB/s eta 0:00:21\n",
      "   ----------------------- ---------------- 127.1/216.1 MB 4.3 MB/s eta 0:00:21\n",
      "   ----------------------- ---------------- 128.2/216.1 MB 4.3 MB/s eta 0:00:21\n",
      "   ----------------------- ---------------- 129.2/216.1 MB 4.3 MB/s eta 0:00:20\n",
      "   ------------------------ --------------- 130.5/216.1 MB 4.4 MB/s eta 0:00:20\n",
      "   ------------------------ --------------- 131.6/216.1 MB 4.3 MB/s eta 0:00:20\n",
      "   ------------------------ --------------- 132.1/216.1 MB 4.3 MB/s eta 0:00:20\n",
      "   ------------------------ --------------- 133.2/216.1 MB 4.3 MB/s eta 0:00:20\n",
      "   ------------------------ --------------- 134.0/216.1 MB 4.3 MB/s eta 0:00:20\n",
      "   ------------------------- -------------- 135.3/216.1 MB 4.3 MB/s eta 0:00:19\n",
      "   ------------------------- -------------- 135.3/216.1 MB 4.3 MB/s eta 0:00:19\n",
      "   ------------------------- -------------- 135.3/216.1 MB 4.3 MB/s eta 0:00:19\n",
      "   ------------------------- -------------- 135.3/216.1 MB 4.3 MB/s eta 0:00:19\n",
      "   ------------------------- -------------- 135.3/216.1 MB 4.3 MB/s eta 0:00:19\n",
      "   ------------------------- -------------- 135.3/216.1 MB 4.3 MB/s eta 0:00:19\n",
      "   ------------------------- -------------- 135.3/216.1 MB 4.3 MB/s eta 0:00:19\n",
      "   ------------------------- -------------- 135.3/216.1 MB 4.3 MB/s eta 0:00:19\n",
      "   ------------------------- -------------- 135.3/216.1 MB 4.3 MB/s eta 0:00:19\n",
      "   ------------------------- -------------- 135.3/216.1 MB 4.3 MB/s eta 0:00:19\n",
      "   ------------------------- -------------- 136.8/216.1 MB 4.0 MB/s eta 0:00:20\n",
      "   ------------------------- -------------- 137.9/216.1 MB 4.0 MB/s eta 0:00:20\n",
      "   ------------------------- -------------- 138.9/216.1 MB 4.0 MB/s eta 0:00:20\n",
      "   ------------------------- -------------- 140.0/216.1 MB 4.0 MB/s eta 0:00:19\n",
      "   -------------------------- ------------- 141.0/216.1 MB 4.0 MB/s eta 0:00:19\n",
      "   -------------------------- ------------- 142.1/216.1 MB 4.0 MB/s eta 0:00:19\n",
      "   -------------------------- ------------- 143.1/216.1 MB 4.0 MB/s eta 0:00:19\n",
      "   -------------------------- ------------- 144.2/216.1 MB 4.0 MB/s eta 0:00:18\n",
      "   -------------------------- ------------- 145.2/216.1 MB 4.0 MB/s eta 0:00:18\n",
      "   --------------------------- ------------ 146.3/216.1 MB 4.2 MB/s eta 0:00:17\n",
      "   --------------------------- ------------ 147.3/216.1 MB 4.2 MB/s eta 0:00:17\n",
      "   --------------------------- ------------ 148.4/216.1 MB 4.2 MB/s eta 0:00:17\n",
      "   --------------------------- ------------ 149.7/216.1 MB 4.2 MB/s eta 0:00:16\n",
      "   --------------------------- ------------ 150.7/216.1 MB 4.2 MB/s eta 0:00:16\n",
      "   ---------------------------- ----------- 151.8/216.1 MB 4.3 MB/s eta 0:00:16\n",
      "   ---------------------------- ----------- 152.8/216.1 MB 4.3 MB/s eta 0:00:15\n",
      "   ---------------------------- ----------- 153.9/216.1 MB 4.3 MB/s eta 0:00:15\n",
      "   ---------------------------- ----------- 154.9/216.1 MB 4.3 MB/s eta 0:00:15\n",
      "   ---------------------------- ----------- 156.0/216.1 MB 4.3 MB/s eta 0:00:15\n",
      "   ----------------------------- ---------- 157.0/216.1 MB 4.3 MB/s eta 0:00:14\n",
      "   ----------------------------- ---------- 158.1/216.1 MB 4.3 MB/s eta 0:00:14\n",
      "   ----------------------------- ---------- 159.1/216.1 MB 4.3 MB/s eta 0:00:14\n",
      "   ----------------------------- ---------- 160.2/216.1 MB 4.3 MB/s eta 0:00:14\n",
      "   ----------------------------- ---------- 161.2/216.1 MB 4.3 MB/s eta 0:00:13\n",
      "   ------------------------------ --------- 162.5/216.1 MB 4.3 MB/s eta 0:00:13\n",
      "   ------------------------------ --------- 163.3/216.1 MB 4.3 MB/s eta 0:00:13\n",
      "   ------------------------------ --------- 164.6/216.1 MB 4.3 MB/s eta 0:00:13\n",
      "   ------------------------------ --------- 165.4/216.1 MB 4.3 MB/s eta 0:00:12\n",
      "   ------------------------------ --------- 166.5/216.1 MB 4.3 MB/s eta 0:00:12\n",
      "   ------------------------------- -------- 167.5/216.1 MB 4.3 MB/s eta 0:00:12\n",
      "   ------------------------------- -------- 168.8/216.1 MB 4.3 MB/s eta 0:00:12\n",
      "   ------------------------------- -------- 169.9/216.1 MB 4.3 MB/s eta 0:00:11\n",
      "   ------------------------------- -------- 170.9/216.1 MB 4.3 MB/s eta 0:00:11\n",
      "   ------------------------------- -------- 172.2/216.1 MB 4.3 MB/s eta 0:00:11\n",
      "   -------------------------------- ------- 173.5/216.1 MB 4.3 MB/s eta 0:00:11\n",
      "   -------------------------------- ------- 174.6/216.1 MB 4.3 MB/s eta 0:00:10\n",
      "   -------------------------------- ------- 175.6/216.1 MB 4.3 MB/s eta 0:00:10\n",
      "   -------------------------------- ------- 176.7/216.1 MB 4.3 MB/s eta 0:00:10\n",
      "   -------------------------------- ------- 177.7/216.1 MB 4.3 MB/s eta 0:00:10\n",
      "   --------------------------------- ------ 179.0/216.1 MB 4.3 MB/s eta 0:00:09\n",
      "   --------------------------------- ------ 180.1/216.1 MB 4.3 MB/s eta 0:00:09\n",
      "   --------------------------------- ------ 181.1/216.1 MB 4.3 MB/s eta 0:00:09\n",
      "   --------------------------------- ------ 182.2/216.1 MB 4.3 MB/s eta 0:00:08\n",
      "   --------------------------------- ------ 183.2/216.1 MB 4.3 MB/s eta 0:00:08\n",
      "   ---------------------------------- ----- 184.3/216.1 MB 4.3 MB/s eta 0:00:08\n",
      "   ---------------------------------- ----- 185.1/216.1 MB 4.2 MB/s eta 0:00:08\n",
      "   ---------------------------------- ----- 185.1/216.1 MB 4.2 MB/s eta 0:00:08\n",
      "   ---------------------------------- ----- 185.1/216.1 MB 4.2 MB/s eta 0:00:08\n",
      "   ---------------------------------- ----- 185.6/216.1 MB 4.2 MB/s eta 0:00:08\n",
      "   ---------------------------------- ----- 187.2/216.1 MB 4.2 MB/s eta 0:00:07\n",
      "   ---------------------------------- ----- 188.2/216.1 MB 4.2 MB/s eta 0:00:07\n",
      "   ----------------------------------- ---- 189.3/216.1 MB 4.2 MB/s eta 0:00:07\n",
      "   ----------------------------------- ---- 190.3/216.1 MB 4.2 MB/s eta 0:00:07\n",
      "   ----------------------------------- ---- 191.4/216.1 MB 4.2 MB/s eta 0:00:06\n",
      "   ----------------------------------- ---- 192.4/216.1 MB 4.2 MB/s eta 0:00:06\n",
      "   ----------------------------------- ---- 193.5/216.1 MB 4.2 MB/s eta 0:00:06\n",
      "   ------------------------------------ --- 194.5/216.1 MB 4.2 MB/s eta 0:00:06\n",
      "   ------------------------------------ --- 195.6/216.1 MB 4.2 MB/s eta 0:00:05\n",
      "   ------------------------------------ --- 196.6/216.1 MB 4.2 MB/s eta 0:00:05\n",
      "   ------------------------------------ --- 197.7/216.1 MB 4.2 MB/s eta 0:00:05\n",
      "   ------------------------------------ --- 198.7/216.1 MB 4.2 MB/s eta 0:00:05\n",
      "   ------------------------------------ --- 199.5/216.1 MB 4.2 MB/s eta 0:00:04\n",
      "   ------------------------------------- -- 200.5/216.1 MB 4.2 MB/s eta 0:00:04\n",
      "   ------------------------------------- -- 201.3/216.1 MB 4.2 MB/s eta 0:00:04\n",
      "   ------------------------------------- -- 202.4/216.1 MB 4.2 MB/s eta 0:00:04\n",
      "   ------------------------------------- -- 203.4/216.1 MB 4.2 MB/s eta 0:00:04\n",
      "   ------------------------------------- -- 204.5/216.1 MB 4.2 MB/s eta 0:00:03\n",
      "   -------------------------------------- - 205.5/216.1 MB 4.4 MB/s eta 0:00:03\n",
      "   -------------------------------------- - 206.6/216.1 MB 4.4 MB/s eta 0:00:03\n",
      "   -------------------------------------- - 207.4/216.1 MB 4.4 MB/s eta 0:00:02\n",
      "   -------------------------------------- - 208.1/216.1 MB 4.4 MB/s eta 0:00:02\n",
      "   -------------------------------------- - 209.2/216.1 MB 4.4 MB/s eta 0:00:02\n",
      "   -------------------------------------- - 210.2/216.1 MB 4.4 MB/s eta 0:00:02\n",
      "   ---------------------------------------  211.6/216.1 MB 4.4 MB/s eta 0:00:02\n",
      "   ---------------------------------------  212.6/216.1 MB 4.4 MB/s eta 0:00:01\n",
      "   ---------------------------------------  213.6/216.1 MB 4.4 MB/s eta 0:00:01\n",
      "   ---------------------------------------  214.7/216.1 MB 4.4 MB/s eta 0:00:01\n",
      "   ---------------------------------------  215.5/216.1 MB 4.4 MB/s eta 0:00:01\n",
      "   ---------------------------------------  216.0/216.1 MB 4.4 MB/s eta 0:00:01\n",
      "   ---------------------------------------  216.0/216.1 MB 4.4 MB/s eta 0:00:01\n",
      "   ---------------------------------------  216.0/216.1 MB 4.4 MB/s eta 0:00:01\n",
      "   ---------------------------------------  216.0/216.1 MB 4.4 MB/s eta 0:00:01\n",
      "   ---------------------------------------  216.0/216.1 MB 4.4 MB/s eta 0:00:01\n",
      "   ---------------------------------------- 216.1/216.1 MB 4.3 MB/s  0:00:51\n",
      "Downloading torchvision-0.22.1-cp311-cp311-win_amd64.whl (1.7 MB)\n",
      "   ---------------------------------------- 0.0/1.7 MB ? eta -:--:--\n",
      "   ------------------------ --------------- 1.0/1.7 MB 8.4 MB/s eta 0:00:01\n",
      "   ---------------------------------------- 1.7/1.7 MB 4.2 MB/s  0:00:00\n",
      "Downloading torchaudio-2.7.1-cp311-cp311-win_amd64.whl (2.5 MB)\n",
      "   ---------------------------------------- 0.0/2.5 MB ? eta -:--:--\n",
      "   ---------------- ----------------------- 1.0/2.5 MB 4.6 MB/s eta 0:00:01\n",
      "   --------------------------------- ------ 2.1/2.5 MB 5.1 MB/s eta 0:00:01\n",
      "   ---------------------------------------- 2.5/2.5 MB 4.6 MB/s  0:00:00\n",
      "Downloading sympy-1.14.0-py3-none-any.whl (6.3 MB)\n",
      "   ---------------------------------------- 0.0/6.3 MB ? eta -:--:--\n",
      "   -------- ------------------------------- 1.3/6.3 MB 7.4 MB/s eta 0:00:01\n",
      "   -------------- ------------------------- 2.4/6.3 MB 5.8 MB/s eta 0:00:01\n",
      "   --------------------- ------------------ 3.4/6.3 MB 5.4 MB/s eta 0:00:01\n",
      "   ---------------------------- ----------- 4.5/6.3 MB 5.3 MB/s eta 0:00:01\n",
      "   ---------------------------------- ----- 5.5/6.3 MB 5.2 MB/s eta 0:00:01\n",
      "   ---------------------------------------- 6.3/6.3 MB 5.0 MB/s  0:00:01\n",
      "Using cached mpmath-1.3.0-py3-none-any.whl (536 kB)\n",
      "Downloading typing_extensions-4.14.1-py3-none-any.whl (43 kB)\n",
      "Using cached filelock-3.18.0-py3-none-any.whl (16 kB)\n",
      "Downloading fsspec-2025.7.0-py3-none-any.whl (199 kB)\n",
      "Downloading networkx-3.5-py3-none-any.whl (2.0 MB)\n",
      "   ---------------------------------------- 0.0/2.0 MB ? eta -:--:--\n",
      "   ------------------------- -------------- 1.3/2.0 MB 6.1 MB/s eta 0:00:01\n",
      "   ---------------------------------------- 2.0/2.0 MB 5.2 MB/s  0:00:00\n",
      "Installing collected packages: mpmath, typing-extensions, sympy, networkx, fsspec, filelock, torch, torchvision, torchaudio\n",
      "\n",
      "   ---------------------------------------- 0/9 [mpmath]\n",
      "   ---------------------------------------- 0/9 [mpmath]\n",
      "   ---------------------------------------- 0/9 [mpmath]\n",
      "   ---------------------------------------- 0/9 [mpmath]\n",
      "   ---------------------------------------- 0/9 [mpmath]\n",
      "   ---------------------------------------- 0/9 [mpmath]\n",
      "   ---------------------------------------- 0/9 [mpmath]\n",
      "   ---------------------------------------- 0/9 [mpmath]\n",
      "   ---------------------------------------- 0/9 [mpmath]\n",
      "   ---------------------------------------- 0/9 [mpmath]\n",
      "   ---------------------------------------- 0/9 [mpmath]\n",
      "   ---------------------------------------- 0/9 [mpmath]\n",
      "   ---------------------------------------- 0/9 [mpmath]\n",
      "   ---------------------------------------- 0/9 [mpmath]\n",
      "   ---------------------------------------- 0/9 [mpmath]\n",
      "   ---------------------------------------- 0/9 [mpmath]\n",
      "   ---- ----------------------------------- 1/9 [typing-extensions]\n",
      "   -------- ------------------------------- 2/9 [sympy]\n",
      "   -------- ------------------------------- 2/9 [sympy]\n",
      "   -------- ------------------------------- 2/9 [sympy]\n",
      "   -------- ------------------------------- 2/9 [sympy]\n",
      "   -------- ------------------------------- 2/9 [sympy]\n",
      "   -------- ------------------------------- 2/9 [sympy]\n",
      "   -------- ------------------------------- 2/9 [sympy]\n",
      "   -------- ------------------------------- 2/9 [sympy]\n",
      "   -------- ------------------------------- 2/9 [sympy]\n",
      "   -------- ------------------------------- 2/9 [sympy]\n",
      "   -------- ------------------------------- 2/9 [sympy]\n",
      "   -------- ------------------------------- 2/9 [sympy]\n",
      "   -------- ------------------------------- 2/9 [sympy]\n",
      "   -------- ------------------------------- 2/9 [sympy]\n",
      "   -------- ------------------------------- 2/9 [sympy]\n",
      "   -------- ------------------------------- 2/9 [sympy]\n",
      "   -------- ------------------------------- 2/9 [sympy]\n",
      "   -------- ------------------------------- 2/9 [sympy]\n",
      "   -------- ------------------------------- 2/9 [sympy]\n",
      "   -------- ------------------------------- 2/9 [sympy]\n",
      "   -------- ------------------------------- 2/9 [sympy]\n",
      "   -------- ------------------------------- 2/9 [sympy]\n",
      "   -------- ------------------------------- 2/9 [sympy]\n",
      "   -------- ------------------------------- 2/9 [sympy]\n",
      "   -------- ------------------------------- 2/9 [sympy]\n",
      "   -------- ------------------------------- 2/9 [sympy]\n",
      "   -------- ------------------------------- 2/9 [sympy]\n",
      "   -------- ------------------------------- 2/9 [sympy]\n",
      "   -------- ------------------------------- 2/9 [sympy]\n",
      "   -------- ------------------------------- 2/9 [sympy]\n",
      "   -------- ------------------------------- 2/9 [sympy]\n",
      "   -------- ------------------------------- 2/9 [sympy]\n",
      "   -------- ------------------------------- 2/9 [sympy]\n",
      "   -------- ------------------------------- 2/9 [sympy]\n",
      "   -------- ------------------------------- 2/9 [sympy]\n",
      "   -------- ------------------------------- 2/9 [sympy]\n",
      "   -------- ------------------------------- 2/9 [sympy]\n",
      "   -------- ------------------------------- 2/9 [sympy]\n",
      "   -------- ------------------------------- 2/9 [sympy]\n",
      "   -------- ------------------------------- 2/9 [sympy]\n",
      "   -------- ------------------------------- 2/9 [sympy]\n",
      "   -------- ------------------------------- 2/9 [sympy]\n",
      "   -------- ------------------------------- 2/9 [sympy]\n",
      "   -------- ------------------------------- 2/9 [sympy]\n",
      "   -------- ------------------------------- 2/9 [sympy]\n",
      "   -------- ------------------------------- 2/9 [sympy]\n",
      "   -------- ------------------------------- 2/9 [sympy]\n",
      "   -------- ------------------------------- 2/9 [sympy]\n",
      "   -------- ------------------------------- 2/9 [sympy]\n",
      "   -------- ------------------------------- 2/9 [sympy]\n",
      "   -------- ------------------------------- 2/9 [sympy]\n",
      "   -------- ------------------------------- 2/9 [sympy]\n",
      "   -------- ------------------------------- 2/9 [sympy]\n",
      "   -------- ------------------------------- 2/9 [sympy]\n",
      "   -------- ------------------------------- 2/9 [sympy]\n",
      "   -------- ------------------------------- 2/9 [sympy]\n",
      "   -------- ------------------------------- 2/9 [sympy]\n",
      "   -------- ------------------------------- 2/9 [sympy]\n",
      "   -------- ------------------------------- 2/9 [sympy]\n",
      "   -------- ------------------------------- 2/9 [sympy]\n",
      "   -------- ------------------------------- 2/9 [sympy]\n",
      "   -------- ------------------------------- 2/9 [sympy]\n",
      "   -------- ------------------------------- 2/9 [sympy]\n",
      "   -------- ------------------------------- 2/9 [sympy]\n",
      "   -------- ------------------------------- 2/9 [sympy]\n",
      "   -------- ------------------------------- 2/9 [sympy]\n",
      "   -------- ------------------------------- 2/9 [sympy]\n",
      "   -------- ------------------------------- 2/9 [sympy]\n",
      "   -------- ------------------------------- 2/9 [sympy]\n",
      "   -------- ------------------------------- 2/9 [sympy]\n",
      "   -------- ------------------------------- 2/9 [sympy]\n",
      "   -------- ------------------------------- 2/9 [sympy]\n",
      "   -------- ------------------------------- 2/9 [sympy]\n",
      "   -------- ------------------------------- 2/9 [sympy]\n",
      "   -------- ------------------------------- 2/9 [sympy]\n",
      "   -------- ------------------------------- 2/9 [sympy]\n",
      "   -------- ------------------------------- 2/9 [sympy]\n",
      "   -------- ------------------------------- 2/9 [sympy]\n",
      "   -------- ------------------------------- 2/9 [sympy]\n",
      "   -------- ------------------------------- 2/9 [sympy]\n",
      "   -------- ------------------------------- 2/9 [sympy]\n",
      "   -------- ------------------------------- 2/9 [sympy]\n",
      "   -------- ------------------------------- 2/9 [sympy]\n",
      "   -------- ------------------------------- 2/9 [sympy]\n",
      "   -------- ------------------------------- 2/9 [sympy]\n",
      "   -------- ------------------------------- 2/9 [sympy]\n",
      "   -------- ------------------------------- 2/9 [sympy]\n",
      "   -------- ------------------------------- 2/9 [sympy]\n",
      "   -------- ------------------------------- 2/9 [sympy]\n",
      "   -------- ------------------------------- 2/9 [sympy]\n",
      "   -------- ------------------------------- 2/9 [sympy]\n",
      "   -------- ------------------------------- 2/9 [sympy]\n",
      "   -------- ------------------------------- 2/9 [sympy]\n",
      "   -------- ------------------------------- 2/9 [sympy]\n",
      "   -------- ------------------------------- 2/9 [sympy]\n",
      "   -------- ------------------------------- 2/9 [sympy]\n",
      "   -------- ------------------------------- 2/9 [sympy]\n",
      "   -------- ------------------------------- 2/9 [sympy]\n",
      "   -------- ------------------------------- 2/9 [sympy]\n",
      "   -------- ------------------------------- 2/9 [sympy]\n",
      "   -------- ------------------------------- 2/9 [sympy]\n",
      "   -------- ------------------------------- 2/9 [sympy]\n",
      "   -------- ------------------------------- 2/9 [sympy]\n",
      "   -------- ------------------------------- 2/9 [sympy]\n",
      "   -------- ------------------------------- 2/9 [sympy]\n",
      "   -------- ------------------------------- 2/9 [sympy]\n",
      "   -------- ------------------------------- 2/9 [sympy]\n",
      "   -------- ------------------------------- 2/9 [sympy]\n",
      "   -------- ------------------------------- 2/9 [sympy]\n",
      "   -------- ------------------------------- 2/9 [sympy]\n",
      "   -------- ------------------------------- 2/9 [sympy]\n",
      "   -------- ------------------------------- 2/9 [sympy]\n",
      "   -------- ------------------------------- 2/9 [sympy]\n",
      "   -------- ------------------------------- 2/9 [sympy]\n",
      "   -------- ------------------------------- 2/9 [sympy]\n",
      "   -------- ------------------------------- 2/9 [sympy]\n",
      "   -------- ------------------------------- 2/9 [sympy]\n",
      "   -------- ------------------------------- 2/9 [sympy]\n",
      "   -------- ------------------------------- 2/9 [sympy]\n",
      "   -------- ------------------------------- 2/9 [sympy]\n",
      "   -------- ------------------------------- 2/9 [sympy]\n",
      "   -------- ------------------------------- 2/9 [sympy]\n",
      "   -------- ------------------------------- 2/9 [sympy]\n",
      "   -------- ------------------------------- 2/9 [sympy]\n",
      "   -------- ------------------------------- 2/9 [sympy]\n",
      "   -------- ------------------------------- 2/9 [sympy]\n",
      "   -------- ------------------------------- 2/9 [sympy]\n",
      "   -------- ------------------------------- 2/9 [sympy]\n",
      "   -------- ------------------------------- 2/9 [sympy]\n",
      "   -------- ------------------------------- 2/9 [sympy]\n",
      "   -------- ------------------------------- 2/9 [sympy]\n",
      "   -------- ------------------------------- 2/9 [sympy]\n",
      "   -------- ------------------------------- 2/9 [sympy]\n",
      "   -------- ------------------------------- 2/9 [sympy]\n",
      "   -------- ------------------------------- 2/9 [sympy]\n",
      "   -------- ------------------------------- 2/9 [sympy]\n",
      "   -------- ------------------------------- 2/9 [sympy]\n",
      "   -------- ------------------------------- 2/9 [sympy]\n",
      "   -------- ------------------------------- 2/9 [sympy]\n",
      "   -------- ------------------------------- 2/9 [sympy]\n",
      "   -------- ------------------------------- 2/9 [sympy]\n",
      "   -------- ------------------------------- 2/9 [sympy]\n",
      "   -------- ------------------------------- 2/9 [sympy]\n",
      "   -------- ------------------------------- 2/9 [sympy]\n",
      "   -------- ------------------------------- 2/9 [sympy]\n",
      "   -------- ------------------------------- 2/9 [sympy]\n",
      "   -------- ------------------------------- 2/9 [sympy]\n",
      "   -------- ------------------------------- 2/9 [sympy]\n",
      "   -------- ------------------------------- 2/9 [sympy]\n",
      "   -------- ------------------------------- 2/9 [sympy]\n",
      "   -------- ------------------------------- 2/9 [sympy]\n",
      "   -------- ------------------------------- 2/9 [sympy]\n",
      "   -------- ------------------------------- 2/9 [sympy]\n",
      "   -------- ------------------------------- 2/9 [sympy]\n",
      "   -------- ------------------------------- 2/9 [sympy]\n",
      "   -------- ------------------------------- 2/9 [sympy]\n",
      "   -------- ------------------------------- 2/9 [sympy]\n",
      "   -------- ------------------------------- 2/9 [sympy]\n",
      "   -------- ------------------------------- 2/9 [sympy]\n",
      "   -------- ------------------------------- 2/9 [sympy]\n",
      "   -------- ------------------------------- 2/9 [sympy]\n",
      "   -------- ------------------------------- 2/9 [sympy]\n",
      "   -------- ------------------------------- 2/9 [sympy]\n",
      "   -------- ------------------------------- 2/9 [sympy]\n",
      "   -------- ------------------------------- 2/9 [sympy]\n",
      "   -------- ------------------------------- 2/9 [sympy]\n",
      "   -------- ------------------------------- 2/9 [sympy]\n",
      "   -------- ------------------------------- 2/9 [sympy]\n",
      "   -------- ------------------------------- 2/9 [sympy]\n",
      "   -------- ------------------------------- 2/9 [sympy]\n",
      "   -------- ------------------------------- 2/9 [sympy]\n",
      "   -------- ------------------------------- 2/9 [sympy]\n",
      "   -------- ------------------------------- 2/9 [sympy]\n",
      "   -------- ------------------------------- 2/9 [sympy]\n",
      "   -------- ------------------------------- 2/9 [sympy]\n",
      "   -------- ------------------------------- 2/9 [sympy]\n",
      "   -------- ------------------------------- 2/9 [sympy]\n",
      "   -------- ------------------------------- 2/9 [sympy]\n",
      "   -------- ------------------------------- 2/9 [sympy]\n",
      "   -------- ------------------------------- 2/9 [sympy]\n",
      "   -------- ------------------------------- 2/9 [sympy]\n",
      "   -------- ------------------------------- 2/9 [sympy]\n",
      "   -------- ------------------------------- 2/9 [sympy]\n",
      "   -------- ------------------------------- 2/9 [sympy]\n",
      "   -------- ------------------------------- 2/9 [sympy]\n",
      "   -------- ------------------------------- 2/9 [sympy]\n",
      "   -------- ------------------------------- 2/9 [sympy]\n",
      "   -------- ------------------------------- 2/9 [sympy]\n",
      "   -------- ------------------------------- 2/9 [sympy]\n",
      "   -------- ------------------------------- 2/9 [sympy]\n",
      "   -------- ------------------------------- 2/9 [sympy]\n",
      "   -------- ------------------------------- 2/9 [sympy]\n",
      "   -------- ------------------------------- 2/9 [sympy]\n",
      "   -------- ------------------------------- 2/9 [sympy]\n",
      "   -------- ------------------------------- 2/9 [sympy]\n",
      "   -------- ------------------------------- 2/9 [sympy]\n",
      "   -------- ------------------------------- 2/9 [sympy]\n",
      "   -------- ------------------------------- 2/9 [sympy]\n",
      "   -------- ------------------------------- 2/9 [sympy]\n",
      "   -------- ------------------------------- 2/9 [sympy]\n",
      "   -------- ------------------------------- 2/9 [sympy]\n",
      "   -------- ------------------------------- 2/9 [sympy]\n",
      "   -------- ------------------------------- 2/9 [sympy]\n",
      "   -------- ------------------------------- 2/9 [sympy]\n",
      "   -------- ------------------------------- 2/9 [sympy]\n",
      "   -------- ------------------------------- 2/9 [sympy]\n",
      "   -------- ------------------------------- 2/9 [sympy]\n",
      "   -------- ------------------------------- 2/9 [sympy]\n",
      "   -------- ------------------------------- 2/9 [sympy]\n",
      "   -------- ------------------------------- 2/9 [sympy]\n",
      "   -------- ------------------------------- 2/9 [sympy]\n",
      "   -------- ------------------------------- 2/9 [sympy]\n",
      "   -------- ------------------------------- 2/9 [sympy]\n",
      "   -------- ------------------------------- 2/9 [sympy]\n",
      "   -------- ------------------------------- 2/9 [sympy]\n",
      "   -------- ------------------------------- 2/9 [sympy]\n",
      "   -------- ------------------------------- 2/9 [sympy]\n",
      "   -------- ------------------------------- 2/9 [sympy]\n",
      "   -------- ------------------------------- 2/9 [sympy]\n",
      "   -------- ------------------------------- 2/9 [sympy]\n",
      "   -------- ------------------------------- 2/9 [sympy]\n",
      "   -------- ------------------------------- 2/9 [sympy]\n",
      "   -------- ------------------------------- 2/9 [sympy]\n",
      "   -------- ------------------------------- 2/9 [sympy]\n",
      "   -------- ------------------------------- 2/9 [sympy]\n",
      "   -------- ------------------------------- 2/9 [sympy]\n",
      "   -------- ------------------------------- 2/9 [sympy]\n",
      "   -------- ------------------------------- 2/9 [sympy]\n",
      "   -------- ------------------------------- 2/9 [sympy]\n",
      "   -------- ------------------------------- 2/9 [sympy]\n",
      "   -------- ------------------------------- 2/9 [sympy]\n",
      "   -------- ------------------------------- 2/9 [sympy]\n",
      "   -------- ------------------------------- 2/9 [sympy]\n",
      "   -------- ------------------------------- 2/9 [sympy]\n",
      "   -------- ------------------------------- 2/9 [sympy]\n",
      "   -------- ------------------------------- 2/9 [sympy]\n",
      "   -------- ------------------------------- 2/9 [sympy]\n",
      "   -------- ------------------------------- 2/9 [sympy]\n",
      "   -------- ------------------------------- 2/9 [sympy]\n",
      "   -------- ------------------------------- 2/9 [sympy]\n",
      "   -------- ------------------------------- 2/9 [sympy]\n",
      "   -------- ------------------------------- 2/9 [sympy]\n",
      "   -------- ------------------------------- 2/9 [sympy]\n",
      "   -------- ------------------------------- 2/9 [sympy]\n",
      "   -------- ------------------------------- 2/9 [sympy]\n",
      "   -------- ------------------------------- 2/9 [sympy]\n",
      "   -------- ------------------------------- 2/9 [sympy]\n",
      "   -------- ------------------------------- 2/9 [sympy]\n",
      "   -------- ------------------------------- 2/9 [sympy]\n",
      "   -------- ------------------------------- 2/9 [sympy]\n",
      "   -------- ------------------------------- 2/9 [sympy]\n",
      "   -------- ------------------------------- 2/9 [sympy]\n",
      "   -------- ------------------------------- 2/9 [sympy]\n",
      "   -------- ------------------------------- 2/9 [sympy]\n",
      "   -------- ------------------------------- 2/9 [sympy]\n",
      "   -------- ------------------------------- 2/9 [sympy]\n",
      "   -------- ------------------------------- 2/9 [sympy]\n",
      "   -------- ------------------------------- 2/9 [sympy]\n",
      "   -------- ------------------------------- 2/9 [sympy]\n",
      "   -------- ------------------------------- 2/9 [sympy]\n",
      "   -------- ------------------------------- 2/9 [sympy]\n",
      "   -------- ------------------------------- 2/9 [sympy]\n",
      "   -------- ------------------------------- 2/9 [sympy]\n",
      "   -------- ------------------------------- 2/9 [sympy]\n",
      "   -------- ------------------------------- 2/9 [sympy]\n",
      "   -------- ------------------------------- 2/9 [sympy]\n",
      "   -------- ------------------------------- 2/9 [sympy]\n",
      "   -------- ------------------------------- 2/9 [sympy]\n",
      "   -------- ------------------------------- 2/9 [sympy]\n",
      "   -------- ------------------------------- 2/9 [sympy]\n",
      "   -------- ------------------------------- 2/9 [sympy]\n",
      "   -------- ------------------------------- 2/9 [sympy]\n",
      "   -------- ------------------------------- 2/9 [sympy]\n",
      "   -------- ------------------------------- 2/9 [sympy]\n",
      "   -------- ------------------------------- 2/9 [sympy]\n",
      "   -------- ------------------------------- 2/9 [sympy]\n",
      "   -------- ------------------------------- 2/9 [sympy]\n",
      "   -------- ------------------------------- 2/9 [sympy]\n",
      "   -------- ------------------------------- 2/9 [sympy]\n",
      "   -------- ------------------------------- 2/9 [sympy]\n",
      "   -------- ------------------------------- 2/9 [sympy]\n",
      "   -------- ------------------------------- 2/9 [sympy]\n",
      "   -------- ------------------------------- 2/9 [sympy]\n",
      "   -------- ------------------------------- 2/9 [sympy]\n",
      "   -------- ------------------------------- 2/9 [sympy]\n",
      "   -------- ------------------------------- 2/9 [sympy]\n",
      "   -------- ------------------------------- 2/9 [sympy]\n",
      "   -------- ------------------------------- 2/9 [sympy]\n",
      "   -------- ------------------------------- 2/9 [sympy]\n",
      "   -------- ------------------------------- 2/9 [sympy]\n",
      "   -------- ------------------------------- 2/9 [sympy]\n",
      "   -------- ------------------------------- 2/9 [sympy]\n",
      "   -------- ------------------------------- 2/9 [sympy]\n",
      "   -------- ------------------------------- 2/9 [sympy]\n",
      "   -------- ------------------------------- 2/9 [sympy]\n",
      "   -------- ------------------------------- 2/9 [sympy]\n",
      "   -------- ------------------------------- 2/9 [sympy]\n",
      "   -------- ------------------------------- 2/9 [sympy]\n",
      "   -------- ------------------------------- 2/9 [sympy]\n",
      "   -------- ------------------------------- 2/9 [sympy]\n",
      "   -------- ------------------------------- 2/9 [sympy]\n",
      "   -------- ------------------------------- 2/9 [sympy]\n",
      "   -------- ------------------------------- 2/9 [sympy]\n",
      "   -------- ------------------------------- 2/9 [sympy]\n",
      "   ------------- -------------------------- 3/9 [networkx]\n",
      "   ------------- -------------------------- 3/9 [networkx]\n",
      "   ------------- -------------------------- 3/9 [networkx]\n",
      "   ------------- -------------------------- 3/9 [networkx]\n",
      "   ------------- -------------------------- 3/9 [networkx]\n",
      "   ------------- -------------------------- 3/9 [networkx]\n",
      "   ------------- -------------------------- 3/9 [networkx]\n",
      "   ------------- -------------------------- 3/9 [networkx]\n",
      "   ------------- -------------------------- 3/9 [networkx]\n",
      "   ------------- -------------------------- 3/9 [networkx]\n",
      "   ------------- -------------------------- 3/9 [networkx]\n",
      "   ------------- -------------------------- 3/9 [networkx]\n",
      "   ------------- -------------------------- 3/9 [networkx]\n",
      "   ------------- -------------------------- 3/9 [networkx]\n",
      "   ------------- -------------------------- 3/9 [networkx]\n",
      "   ------------- -------------------------- 3/9 [networkx]\n",
      "   ------------- -------------------------- 3/9 [networkx]\n",
      "   ------------- -------------------------- 3/9 [networkx]\n",
      "   ------------- -------------------------- 3/9 [networkx]\n",
      "   ------------- -------------------------- 3/9 [networkx]\n",
      "   ------------- -------------------------- 3/9 [networkx]\n",
      "   ------------- -------------------------- 3/9 [networkx]\n",
      "   ------------- -------------------------- 3/9 [networkx]\n",
      "   ------------- -------------------------- 3/9 [networkx]\n",
      "   ------------- -------------------------- 3/9 [networkx]\n",
      "   ------------- -------------------------- 3/9 [networkx]\n",
      "   ------------- -------------------------- 3/9 [networkx]\n",
      "   ------------- -------------------------- 3/9 [networkx]\n",
      "   ------------- -------------------------- 3/9 [networkx]\n",
      "   ------------- -------------------------- 3/9 [networkx]\n",
      "   ------------- -------------------------- 3/9 [networkx]\n",
      "   ------------- -------------------------- 3/9 [networkx]\n",
      "   ------------- -------------------------- 3/9 [networkx]\n",
      "   ------------- -------------------------- 3/9 [networkx]\n",
      "   ------------- -------------------------- 3/9 [networkx]\n",
      "   ------------- -------------------------- 3/9 [networkx]\n",
      "   ------------- -------------------------- 3/9 [networkx]\n",
      "   ------------- -------------------------- 3/9 [networkx]\n",
      "   ------------- -------------------------- 3/9 [networkx]\n",
      "   ------------- -------------------------- 3/9 [networkx]\n",
      "   ------------- -------------------------- 3/9 [networkx]\n",
      "   ------------- -------------------------- 3/9 [networkx]\n",
      "   ------------- -------------------------- 3/9 [networkx]\n",
      "   ------------- -------------------------- 3/9 [networkx]\n",
      "   ------------- -------------------------- 3/9 [networkx]\n",
      "   ------------- -------------------------- 3/9 [networkx]\n",
      "   ------------- -------------------------- 3/9 [networkx]\n",
      "   ------------- -------------------------- 3/9 [networkx]\n",
      "   ------------- -------------------------- 3/9 [networkx]\n",
      "   ------------- -------------------------- 3/9 [networkx]\n",
      "   ------------- -------------------------- 3/9 [networkx]\n",
      "   ------------- -------------------------- 3/9 [networkx]\n",
      "   ------------- -------------------------- 3/9 [networkx]\n",
      "   ------------- -------------------------- 3/9 [networkx]\n",
      "   ------------- -------------------------- 3/9 [networkx]\n",
      "   ------------- -------------------------- 3/9 [networkx]\n",
      "   ------------- -------------------------- 3/9 [networkx]\n",
      "   ------------- -------------------------- 3/9 [networkx]\n",
      "   ------------- -------------------------- 3/9 [networkx]\n",
      "   ------------- -------------------------- 3/9 [networkx]\n",
      "   ------------- -------------------------- 3/9 [networkx]\n",
      "   ------------- -------------------------- 3/9 [networkx]\n",
      "   ------------- -------------------------- 3/9 [networkx]\n",
      "   ------------- -------------------------- 3/9 [networkx]\n",
      "   ------------- -------------------------- 3/9 [networkx]\n",
      "   ------------- -------------------------- 3/9 [networkx]\n",
      "   ------------- -------------------------- 3/9 [networkx]\n",
      "   ------------- -------------------------- 3/9 [networkx]\n",
      "   ------------- -------------------------- 3/9 [networkx]\n",
      "   ------------- -------------------------- 3/9 [networkx]\n",
      "   ------------- -------------------------- 3/9 [networkx]\n",
      "   ------------- -------------------------- 3/9 [networkx]\n",
      "   ------------- -------------------------- 3/9 [networkx]\n",
      "   ------------- -------------------------- 3/9 [networkx]\n",
      "   ------------- -------------------------- 3/9 [networkx]\n",
      "   ------------- -------------------------- 3/9 [networkx]\n",
      "   ------------- -------------------------- 3/9 [networkx]\n",
      "   ------------- -------------------------- 3/9 [networkx]\n",
      "   ------------- -------------------------- 3/9 [networkx]\n",
      "   ------------- -------------------------- 3/9 [networkx]\n",
      "   ------------- -------------------------- 3/9 [networkx]\n",
      "   ------------- -------------------------- 3/9 [networkx]\n",
      "   ------------- -------------------------- 3/9 [networkx]\n",
      "   ------------- -------------------------- 3/9 [networkx]\n",
      "   ------------- -------------------------- 3/9 [networkx]\n",
      "   ------------- -------------------------- 3/9 [networkx]\n",
      "   ------------- -------------------------- 3/9 [networkx]\n",
      "   ------------- -------------------------- 3/9 [networkx]\n",
      "   ------------- -------------------------- 3/9 [networkx]\n",
      "   ------------- -------------------------- 3/9 [networkx]\n",
      "   ------------- -------------------------- 3/9 [networkx]\n",
      "   ------------- -------------------------- 3/9 [networkx]\n",
      "   ----------------- ---------------------- 4/9 [fsspec]\n",
      "   ----------------- ---------------------- 4/9 [fsspec]\n",
      "   ----------------- ---------------------- 4/9 [fsspec]\n",
      "   ----------------- ---------------------- 4/9 [fsspec]\n",
      "   ----------------- ---------------------- 4/9 [fsspec]\n",
      "   ----------------- ---------------------- 4/9 [fsspec]\n",
      "   ----------------- ---------------------- 4/9 [fsspec]\n",
      "   ----------------- ---------------------- 4/9 [fsspec]\n",
      "   ----------------- ---------------------- 4/9 [fsspec]\n",
      "   ----------------- ---------------------- 4/9 [fsspec]\n",
      "   ----------------- ---------------------- 4/9 [fsspec]\n",
      "   ----------------- ---------------------- 4/9 [fsspec]\n",
      "   ---------------------- ----------------- 5/9 [filelock]\n",
      "   -------------------------- ------------- 6/9 [torch]\n",
      "   -------------------------- ------------- 6/9 [torch]\n",
      "   -------------------------- ------------- 6/9 [torch]\n",
      "   -------------------------- ------------- 6/9 [torch]\n",
      "   -------------------------- ------------- 6/9 [torch]\n",
      "   -------------------------- ------------- 6/9 [torch]\n",
      "   -------------------------- ------------- 6/9 [torch]\n",
      "   -------------------------- ------------- 6/9 [torch]\n",
      "   -------------------------- ------------- 6/9 [torch]\n",
      "   -------------------------- ------------- 6/9 [torch]\n",
      "   -------------------------- ------------- 6/9 [torch]\n",
      "   -------------------------- ------------- 6/9 [torch]\n",
      "   -------------------------- ------------- 6/9 [torch]\n",
      "   -------------------------- ------------- 6/9 [torch]\n",
      "   -------------------------- ------------- 6/9 [torch]\n",
      "   -------------------------- ------------- 6/9 [torch]\n",
      "   -------------------------- ------------- 6/9 [torch]\n",
      "   -------------------------- ------------- 6/9 [torch]\n",
      "   -------------------------- ------------- 6/9 [torch]\n",
      "   -------------------------- ------------- 6/9 [torch]\n",
      "   -------------------------- ------------- 6/9 [torch]\n",
      "   -------------------------- ------------- 6/9 [torch]\n",
      "   -------------------------- ------------- 6/9 [torch]\n",
      "   -------------------------- ------------- 6/9 [torch]\n",
      "   -------------------------- ------------- 6/9 [torch]\n",
      "   -------------------------- ------------- 6/9 [torch]\n",
      "   -------------------------- ------------- 6/9 [torch]\n",
      "   -------------------------- ------------- 6/9 [torch]\n",
      "   -------------------------- ------------- 6/9 [torch]\n",
      "   -------------------------- ------------- 6/9 [torch]\n",
      "   -------------------------- ------------- 6/9 [torch]\n",
      "   -------------------------- ------------- 6/9 [torch]\n",
      "   -------------------------- ------------- 6/9 [torch]\n",
      "   -------------------------- ------------- 6/9 [torch]\n",
      "   -------------------------- ------------- 6/9 [torch]\n",
      "   -------------------------- ------------- 6/9 [torch]\n",
      "   -------------------------- ------------- 6/9 [torch]\n",
      "   -------------------------- ------------- 6/9 [torch]\n",
      "   -------------------------- ------------- 6/9 [torch]\n",
      "   -------------------------- ------------- 6/9 [torch]\n",
      "   -------------------------- ------------- 6/9 [torch]\n",
      "   -------------------------- ------------- 6/9 [torch]\n",
      "   -------------------------- ------------- 6/9 [torch]\n",
      "   -------------------------- ------------- 6/9 [torch]\n",
      "   -------------------------- ------------- 6/9 [torch]\n",
      "   -------------------------- ------------- 6/9 [torch]\n",
      "   -------------------------- ------------- 6/9 [torch]\n",
      "   -------------------------- ------------- 6/9 [torch]\n",
      "   -------------------------- ------------- 6/9 [torch]\n",
      "   -------------------------- ------------- 6/9 [torch]\n",
      "   -------------------------- ------------- 6/9 [torch]\n",
      "   -------------------------- ------------- 6/9 [torch]\n",
      "   -------------------------- ------------- 6/9 [torch]\n",
      "   -------------------------- ------------- 6/9 [torch]\n",
      "   -------------------------- ------------- 6/9 [torch]\n",
      "   -------------------------- ------------- 6/9 [torch]\n",
      "   -------------------------- ------------- 6/9 [torch]\n",
      "   -------------------------- ------------- 6/9 [torch]\n",
      "   -------------------------- ------------- 6/9 [torch]\n",
      "   -------------------------- ------------- 6/9 [torch]\n",
      "   -------------------------- ------------- 6/9 [torch]\n",
      "   -------------------------- ------------- 6/9 [torch]\n",
      "   -------------------------- ------------- 6/9 [torch]\n",
      "   -------------------------- ------------- 6/9 [torch]\n",
      "   -------------------------- ------------- 6/9 [torch]\n",
      "   -------------------------- ------------- 6/9 [torch]\n",
      "   -------------------------- ------------- 6/9 [torch]\n",
      "   -------------------------- ------------- 6/9 [torch]\n",
      "   -------------------------- ------------- 6/9 [torch]\n",
      "   -------------------------- ------------- 6/9 [torch]\n",
      "   -------------------------- ------------- 6/9 [torch]\n",
      "   -------------------------- ------------- 6/9 [torch]\n",
      "   -------------------------- ------------- 6/9 [torch]\n",
      "   -------------------------- ------------- 6/9 [torch]\n",
      "   -------------------------- ------------- 6/9 [torch]\n",
      "   -------------------------- ------------- 6/9 [torch]\n",
      "   -------------------------- ------------- 6/9 [torch]\n",
      "   -------------------------- ------------- 6/9 [torch]\n",
      "   -------------------------- ------------- 6/9 [torch]\n",
      "   -------------------------- ------------- 6/9 [torch]\n",
      "   -------------------------- ------------- 6/9 [torch]\n",
      "   -------------------------- ------------- 6/9 [torch]\n",
      "   -------------------------- ------------- 6/9 [torch]\n",
      "   -------------------------- ------------- 6/9 [torch]\n",
      "   -------------------------- ------------- 6/9 [torch]\n",
      "   -------------------------- ------------- 6/9 [torch]\n",
      "   -------------------------- ------------- 6/9 [torch]\n",
      "   -------------------------- ------------- 6/9 [torch]\n",
      "   -------------------------- ------------- 6/9 [torch]\n",
      "   -------------------------- ------------- 6/9 [torch]\n",
      "   -------------------------- ------------- 6/9 [torch]\n",
      "   -------------------------- ------------- 6/9 [torch]\n",
      "   -------------------------- ------------- 6/9 [torch]\n",
      "   -------------------------- ------------- 6/9 [torch]\n",
      "   -------------------------- ------------- 6/9 [torch]\n",
      "   -------------------------- ------------- 6/9 [torch]\n",
      "   -------------------------- ------------- 6/9 [torch]\n",
      "   -------------------------- ------------- 6/9 [torch]\n",
      "   -------------------------- ------------- 6/9 [torch]\n",
      "   -------------------------- ------------- 6/9 [torch]\n",
      "   -------------------------- ------------- 6/9 [torch]\n",
      "   -------------------------- ------------- 6/9 [torch]\n",
      "   -------------------------- ------------- 6/9 [torch]\n",
      "   -------------------------- ------------- 6/9 [torch]\n",
      "   -------------------------- ------------- 6/9 [torch]\n",
      "   -------------------------- ------------- 6/9 [torch]\n",
      "   -------------------------- ------------- 6/9 [torch]\n",
      "   -------------------------- ------------- 6/9 [torch]\n",
      "   -------------------------- ------------- 6/9 [torch]\n",
      "   -------------------------- ------------- 6/9 [torch]\n",
      "   -------------------------- ------------- 6/9 [torch]\n",
      "   -------------------------- ------------- 6/9 [torch]\n",
      "   -------------------------- ------------- 6/9 [torch]\n",
      "   -------------------------- ------------- 6/9 [torch]\n",
      "   -------------------------- ------------- 6/9 [torch]\n",
      "   -------------------------- ------------- 6/9 [torch]\n",
      "   -------------------------- ------------- 6/9 [torch]\n",
      "   -------------------------- ------------- 6/9 [torch]\n",
      "   -------------------------- ------------- 6/9 [torch]\n",
      "   -------------------------- ------------- 6/9 [torch]\n",
      "   -------------------------- ------------- 6/9 [torch]\n",
      "   -------------------------- ------------- 6/9 [torch]\n",
      "   -------------------------- ------------- 6/9 [torch]\n",
      "   -------------------------- ------------- 6/9 [torch]\n",
      "   -------------------------- ------------- 6/9 [torch]\n",
      "   -------------------------- ------------- 6/9 [torch]\n",
      "   -------------------------- ------------- 6/9 [torch]\n",
      "   -------------------------- ------------- 6/9 [torch]\n",
      "   -------------------------- ------------- 6/9 [torch]\n",
      "   -------------------------- ------------- 6/9 [torch]\n",
      "   -------------------------- ------------- 6/9 [torch]\n",
      "   -------------------------- ------------- 6/9 [torch]\n",
      "   -------------------------- ------------- 6/9 [torch]\n",
      "   -------------------------- ------------- 6/9 [torch]\n",
      "   -------------------------- ------------- 6/9 [torch]\n",
      "   -------------------------- ------------- 6/9 [torch]\n",
      "   -------------------------- ------------- 6/9 [torch]\n",
      "   -------------------------- ------------- 6/9 [torch]\n",
      "   -------------------------- ------------- 6/9 [torch]\n",
      "   -------------------------- ------------- 6/9 [torch]\n",
      "   -------------------------- ------------- 6/9 [torch]\n",
      "   -------------------------- ------------- 6/9 [torch]\n",
      "   -------------------------- ------------- 6/9 [torch]\n",
      "   -------------------------- ------------- 6/9 [torch]\n",
      "   -------------------------- ------------- 6/9 [torch]\n",
      "   -------------------------- ------------- 6/9 [torch]\n",
      "   -------------------------- ------------- 6/9 [torch]\n",
      "   -------------------------- ------------- 6/9 [torch]\n",
      "   -------------------------- ------------- 6/9 [torch]\n",
      "   -------------------------- ------------- 6/9 [torch]\n",
      "   -------------------------- ------------- 6/9 [torch]\n",
      "   -------------------------- ------------- 6/9 [torch]\n",
      "   -------------------------- ------------- 6/9 [torch]\n",
      "   -------------------------- ------------- 6/9 [torch]\n",
      "   -------------------------- ------------- 6/9 [torch]\n",
      "   -------------------------- ------------- 6/9 [torch]\n",
      "   -------------------------- ------------- 6/9 [torch]\n",
      "   -------------------------- ------------- 6/9 [torch]\n",
      "   -------------------------- ------------- 6/9 [torch]\n",
      "   -------------------------- ------------- 6/9 [torch]\n",
      "   -------------------------- ------------- 6/9 [torch]\n",
      "   -------------------------- ------------- 6/9 [torch]\n",
      "   -------------------------- ------------- 6/9 [torch]\n",
      "   -------------------------- ------------- 6/9 [torch]\n",
      "   -------------------------- ------------- 6/9 [torch]\n",
      "   -------------------------- ------------- 6/9 [torch]\n",
      "   -------------------------- ------------- 6/9 [torch]\n",
      "   -------------------------- ------------- 6/9 [torch]\n",
      "   -------------------------- ------------- 6/9 [torch]\n",
      "   -------------------------- ------------- 6/9 [torch]\n",
      "   -------------------------- ------------- 6/9 [torch]\n",
      "   -------------------------- ------------- 6/9 [torch]\n",
      "   -------------------------- ------------- 6/9 [torch]\n",
      "   -------------------------- ------------- 6/9 [torch]\n",
      "   -------------------------- ------------- 6/9 [torch]\n",
      "   -------------------------- ------------- 6/9 [torch]\n",
      "   -------------------------- ------------- 6/9 [torch]\n",
      "   -------------------------- ------------- 6/9 [torch]\n",
      "   -------------------------- ------------- 6/9 [torch]\n",
      "   -------------------------- ------------- 6/9 [torch]\n",
      "   -------------------------- ------------- 6/9 [torch]\n",
      "   -------------------------- ------------- 6/9 [torch]\n",
      "   -------------------------- ------------- 6/9 [torch]\n",
      "   -------------------------- ------------- 6/9 [torch]\n",
      "   -------------------------- ------------- 6/9 [torch]\n",
      "   -------------------------- ------------- 6/9 [torch]\n",
      "   -------------------------- ------------- 6/9 [torch]\n",
      "   -------------------------- ------------- 6/9 [torch]\n",
      "   -------------------------- ------------- 6/9 [torch]\n",
      "   -------------------------- ------------- 6/9 [torch]\n",
      "   -------------------------- ------------- 6/9 [torch]\n",
      "   -------------------------- ------------- 6/9 [torch]\n",
      "   -------------------------- ------------- 6/9 [torch]\n",
      "   -------------------------- ------------- 6/9 [torch]\n",
      "   -------------------------- ------------- 6/9 [torch]\n",
      "   -------------------------- ------------- 6/9 [torch]\n",
      "   -------------------------- ------------- 6/9 [torch]\n",
      "   -------------------------- ------------- 6/9 [torch]\n",
      "   -------------------------- ------------- 6/9 [torch]\n",
      "   -------------------------- ------------- 6/9 [torch]\n",
      "   -------------------------- ------------- 6/9 [torch]\n",
      "   -------------------------- ------------- 6/9 [torch]\n",
      "   -------------------------- ------------- 6/9 [torch]\n",
      "   -------------------------- ------------- 6/9 [torch]\n",
      "   -------------------------- ------------- 6/9 [torch]\n",
      "   -------------------------- ------------- 6/9 [torch]\n",
      "   -------------------------- ------------- 6/9 [torch]\n",
      "   -------------------------- ------------- 6/9 [torch]\n",
      "   -------------------------- ------------- 6/9 [torch]\n",
      "   -------------------------- ------------- 6/9 [torch]\n",
      "   -------------------------- ------------- 6/9 [torch]\n",
      "   -------------------------- ------------- 6/9 [torch]\n",
      "   -------------------------- ------------- 6/9 [torch]\n",
      "   -------------------------- ------------- 6/9 [torch]\n",
      "   -------------------------- ------------- 6/9 [torch]\n",
      "   -------------------------- ------------- 6/9 [torch]\n",
      "   -------------------------- ------------- 6/9 [torch]\n",
      "   -------------------------- ------------- 6/9 [torch]\n",
      "   -------------------------- ------------- 6/9 [torch]\n",
      "   -------------------------- ------------- 6/9 [torch]\n",
      "   -------------------------- ------------- 6/9 [torch]\n",
      "   -------------------------- ------------- 6/9 [torch]\n",
      "   -------------------------- ------------- 6/9 [torch]\n",
      "   -------------------------- ------------- 6/9 [torch]\n",
      "   -------------------------- ------------- 6/9 [torch]\n",
      "   -------------------------- ------------- 6/9 [torch]\n",
      "   -------------------------- ------------- 6/9 [torch]\n",
      "   -------------------------- ------------- 6/9 [torch]\n",
      "   -------------------------- ------------- 6/9 [torch]\n",
      "   -------------------------- ------------- 6/9 [torch]\n",
      "   -------------------------- ------------- 6/9 [torch]\n",
      "   -------------------------- ------------- 6/9 [torch]\n",
      "   -------------------------- ------------- 6/9 [torch]\n",
      "   -------------------------- ------------- 6/9 [torch]\n",
      "   -------------------------- ------------- 6/9 [torch]\n",
      "   -------------------------- ------------- 6/9 [torch]\n",
      "   -------------------------- ------------- 6/9 [torch]\n",
      "   -------------------------- ------------- 6/9 [torch]\n",
      "   -------------------------- ------------- 6/9 [torch]\n",
      "   -------------------------- ------------- 6/9 [torch]\n",
      "   -------------------------- ------------- 6/9 [torch]\n",
      "   -------------------------- ------------- 6/9 [torch]\n",
      "   -------------------------- ------------- 6/9 [torch]\n",
      "   -------------------------- ------------- 6/9 [torch]\n",
      "   -------------------------- ------------- 6/9 [torch]\n",
      "   -------------------------- ------------- 6/9 [torch]\n",
      "   -------------------------- ------------- 6/9 [torch]\n",
      "   -------------------------- ------------- 6/9 [torch]\n",
      "   -------------------------- ------------- 6/9 [torch]\n",
      "   -------------------------- ------------- 6/9 [torch]\n",
      "   -------------------------- ------------- 6/9 [torch]\n",
      "   -------------------------- ------------- 6/9 [torch]\n",
      "   -------------------------- ------------- 6/9 [torch]\n",
      "   -------------------------- ------------- 6/9 [torch]\n",
      "   -------------------------- ------------- 6/9 [torch]\n",
      "   -------------------------- ------------- 6/9 [torch]\n",
      "   -------------------------- ------------- 6/9 [torch]\n",
      "   -------------------------- ------------- 6/9 [torch]\n",
      "   -------------------------- ------------- 6/9 [torch]\n",
      "   -------------------------- ------------- 6/9 [torch]\n",
      "   -------------------------- ------------- 6/9 [torch]\n",
      "   -------------------------- ------------- 6/9 [torch]\n",
      "   -------------------------- ------------- 6/9 [torch]\n",
      "   -------------------------- ------------- 6/9 [torch]\n",
      "   -------------------------- ------------- 6/9 [torch]\n",
      "   -------------------------- ------------- 6/9 [torch]\n",
      "   -------------------------- ------------- 6/9 [torch]\n",
      "   -------------------------- ------------- 6/9 [torch]\n",
      "   -------------------------- ------------- 6/9 [torch]\n",
      "   -------------------------- ------------- 6/9 [torch]\n",
      "   -------------------------- ------------- 6/9 [torch]\n",
      "   -------------------------- ------------- 6/9 [torch]\n",
      "   -------------------------- ------------- 6/9 [torch]\n",
      "   -------------------------- ------------- 6/9 [torch]\n",
      "   -------------------------- ------------- 6/9 [torch]\n",
      "   -------------------------- ------------- 6/9 [torch]\n",
      "   -------------------------- ------------- 6/9 [torch]\n",
      "   -------------------------- ------------- 6/9 [torch]\n",
      "   -------------------------- ------------- 6/9 [torch]\n",
      "   -------------------------- ------------- 6/9 [torch]\n",
      "   -------------------------- ------------- 6/9 [torch]\n",
      "   -------------------------- ------------- 6/9 [torch]\n",
      "   -------------------------- ------------- 6/9 [torch]\n",
      "   -------------------------- ------------- 6/9 [torch]\n",
      "   -------------------------- ------------- 6/9 [torch]\n",
      "   -------------------------- ------------- 6/9 [torch]\n",
      "   -------------------------- ------------- 6/9 [torch]\n",
      "   -------------------------- ------------- 6/9 [torch]\n",
      "   -------------------------- ------------- 6/9 [torch]\n",
      "   -------------------------- ------------- 6/9 [torch]\n",
      "   -------------------------- ------------- 6/9 [torch]\n",
      "   -------------------------- ------------- 6/9 [torch]\n",
      "   -------------------------- ------------- 6/9 [torch]\n",
      "   -------------------------- ------------- 6/9 [torch]\n",
      "   -------------------------- ------------- 6/9 [torch]\n",
      "   -------------------------- ------------- 6/9 [torch]\n",
      "   -------------------------- ------------- 6/9 [torch]\n",
      "   -------------------------- ------------- 6/9 [torch]\n",
      "   -------------------------- ------------- 6/9 [torch]\n",
      "   -------------------------- ------------- 6/9 [torch]\n",
      "   -------------------------- ------------- 6/9 [torch]\n",
      "   -------------------------- ------------- 6/9 [torch]\n",
      "   -------------------------- ------------- 6/9 [torch]\n",
      "   -------------------------- ------------- 6/9 [torch]\n",
      "   -------------------------- ------------- 6/9 [torch]\n",
      "   -------------------------- ------------- 6/9 [torch]\n",
      "   -------------------------- ------------- 6/9 [torch]\n",
      "   -------------------------- ------------- 6/9 [torch]\n",
      "   -------------------------- ------------- 6/9 [torch]\n",
      "   -------------------------- ------------- 6/9 [torch]\n",
      "   -------------------------- ------------- 6/9 [torch]\n",
      "   -------------------------- ------------- 6/9 [torch]\n",
      "   -------------------------- ------------- 6/9 [torch]\n",
      "   -------------------------- ------------- 6/9 [torch]\n",
      "   -------------------------- ------------- 6/9 [torch]\n",
      "   -------------------------- ------------- 6/9 [torch]\n",
      "   -------------------------- ------------- 6/9 [torch]\n",
      "   -------------------------- ------------- 6/9 [torch]\n",
      "   -------------------------- ------------- 6/9 [torch]\n",
      "   -------------------------- ------------- 6/9 [torch]\n",
      "   -------------------------- ------------- 6/9 [torch]\n",
      "   -------------------------- ------------- 6/9 [torch]\n",
      "   -------------------------- ------------- 6/9 [torch]\n",
      "   -------------------------- ------------- 6/9 [torch]\n",
      "   -------------------------- ------------- 6/9 [torch]\n",
      "   -------------------------- ------------- 6/9 [torch]\n",
      "   -------------------------- ------------- 6/9 [torch]\n",
      "   -------------------------- ------------- 6/9 [torch]\n",
      "   -------------------------- ------------- 6/9 [torch]\n",
      "   -------------------------- ------------- 6/9 [torch]\n",
      "   -------------------------- ------------- 6/9 [torch]\n",
      "   -------------------------- ------------- 6/9 [torch]\n",
      "   -------------------------- ------------- 6/9 [torch]\n",
      "   -------------------------- ------------- 6/9 [torch]\n",
      "   -------------------------- ------------- 6/9 [torch]\n",
      "   -------------------------- ------------- 6/9 [torch]\n",
      "   -------------------------- ------------- 6/9 [torch]\n",
      "   -------------------------- ------------- 6/9 [torch]\n",
      "   -------------------------- ------------- 6/9 [torch]\n",
      "   -------------------------- ------------- 6/9 [torch]\n",
      "   -------------------------- ------------- 6/9 [torch]\n",
      "   -------------------------- ------------- 6/9 [torch]\n",
      "   -------------------------- ------------- 6/9 [torch]\n",
      "   -------------------------- ------------- 6/9 [torch]\n",
      "   -------------------------- ------------- 6/9 [torch]\n",
      "   -------------------------- ------------- 6/9 [torch]\n",
      "   -------------------------- ------------- 6/9 [torch]\n",
      "   -------------------------- ------------- 6/9 [torch]\n",
      "   -------------------------- ------------- 6/9 [torch]\n",
      "   -------------------------- ------------- 6/9 [torch]\n",
      "   -------------------------- ------------- 6/9 [torch]\n",
      "   -------------------------- ------------- 6/9 [torch]\n",
      "   -------------------------- ------------- 6/9 [torch]\n",
      "   -------------------------- ------------- 6/9 [torch]\n",
      "   -------------------------- ------------- 6/9 [torch]\n",
      "   -------------------------- ------------- 6/9 [torch]\n",
      "   -------------------------- ------------- 6/9 [torch]\n",
      "   -------------------------- ------------- 6/9 [torch]\n",
      "   -------------------------- ------------- 6/9 [torch]\n",
      "   -------------------------- ------------- 6/9 [torch]\n",
      "   -------------------------- ------------- 6/9 [torch]\n",
      "   -------------------------- ------------- 6/9 [torch]\n",
      "   -------------------------- ------------- 6/9 [torch]\n",
      "   -------------------------- ------------- 6/9 [torch]\n",
      "   -------------------------- ------------- 6/9 [torch]\n",
      "   -------------------------- ------------- 6/9 [torch]\n",
      "   -------------------------- ------------- 6/9 [torch]\n",
      "   -------------------------- ------------- 6/9 [torch]\n",
      "   -------------------------- ------------- 6/9 [torch]\n",
      "   -------------------------- ------------- 6/9 [torch]\n",
      "   -------------------------- ------------- 6/9 [torch]\n",
      "   -------------------------- ------------- 6/9 [torch]\n",
      "   -------------------------- ------------- 6/9 [torch]\n",
      "   -------------------------- ------------- 6/9 [torch]\n",
      "   -------------------------- ------------- 6/9 [torch]\n",
      "   -------------------------- ------------- 6/9 [torch]\n",
      "   -------------------------- ------------- 6/9 [torch]\n",
      "   -------------------------- ------------- 6/9 [torch]\n",
      "   -------------------------- ------------- 6/9 [torch]\n",
      "   -------------------------- ------------- 6/9 [torch]\n",
      "   -------------------------- ------------- 6/9 [torch]\n",
      "   -------------------------- ------------- 6/9 [torch]\n",
      "   -------------------------- ------------- 6/9 [torch]\n",
      "   -------------------------- ------------- 6/9 [torch]\n",
      "   -------------------------- ------------- 6/9 [torch]\n",
      "   -------------------------- ------------- 6/9 [torch]\n",
      "   -------------------------- ------------- 6/9 [torch]\n",
      "   -------------------------- ------------- 6/9 [torch]\n",
      "   -------------------------- ------------- 6/9 [torch]\n",
      "   -------------------------- ------------- 6/9 [torch]\n",
      "   -------------------------- ------------- 6/9 [torch]\n",
      "   -------------------------- ------------- 6/9 [torch]\n",
      "   -------------------------- ------------- 6/9 [torch]\n",
      "   -------------------------- ------------- 6/9 [torch]\n",
      "   -------------------------- ------------- 6/9 [torch]\n",
      "   -------------------------- ------------- 6/9 [torch]\n",
      "   -------------------------- ------------- 6/9 [torch]\n",
      "   -------------------------- ------------- 6/9 [torch]\n",
      "   -------------------------- ------------- 6/9 [torch]\n",
      "   -------------------------- ------------- 6/9 [torch]\n",
      "   -------------------------- ------------- 6/9 [torch]\n",
      "   -------------------------- ------------- 6/9 [torch]\n",
      "   -------------------------- ------------- 6/9 [torch]\n",
      "   -------------------------- ------------- 6/9 [torch]\n",
      "   -------------------------- ------------- 6/9 [torch]\n",
      "   -------------------------- ------------- 6/9 [torch]\n",
      "   -------------------------- ------------- 6/9 [torch]\n",
      "   -------------------------- ------------- 6/9 [torch]\n",
      "   -------------------------- ------------- 6/9 [torch]\n",
      "   -------------------------- ------------- 6/9 [torch]\n",
      "   -------------------------- ------------- 6/9 [torch]\n",
      "   -------------------------- ------------- 6/9 [torch]\n",
      "   -------------------------- ------------- 6/9 [torch]\n",
      "   -------------------------- ------------- 6/9 [torch]\n",
      "   -------------------------- ------------- 6/9 [torch]\n",
      "   -------------------------- ------------- 6/9 [torch]\n",
      "   -------------------------- ------------- 6/9 [torch]\n",
      "   -------------------------- ------------- 6/9 [torch]\n",
      "   -------------------------- ------------- 6/9 [torch]\n",
      "   -------------------------- ------------- 6/9 [torch]\n",
      "   -------------------------- ------------- 6/9 [torch]\n",
      "   -------------------------- ------------- 6/9 [torch]\n",
      "   -------------------------- ------------- 6/9 [torch]\n",
      "   -------------------------- ------------- 6/9 [torch]\n",
      "   -------------------------- ------------- 6/9 [torch]\n",
      "   -------------------------- ------------- 6/9 [torch]\n",
      "   -------------------------- ------------- 6/9 [torch]\n",
      "   -------------------------- ------------- 6/9 [torch]\n",
      "   -------------------------- ------------- 6/9 [torch]\n",
      "   -------------------------- ------------- 6/9 [torch]\n",
      "   -------------------------- ------------- 6/9 [torch]\n",
      "   -------------------------- ------------- 6/9 [torch]\n",
      "   -------------------------- ------------- 6/9 [torch]\n",
      "   -------------------------- ------------- 6/9 [torch]\n",
      "   -------------------------- ------------- 6/9 [torch]\n",
      "   -------------------------- ------------- 6/9 [torch]\n",
      "   -------------------------- ------------- 6/9 [torch]\n",
      "   -------------------------- ------------- 6/9 [torch]\n",
      "   -------------------------- ------------- 6/9 [torch]\n",
      "   -------------------------- ------------- 6/9 [torch]\n",
      "   -------------------------- ------------- 6/9 [torch]\n",
      "   -------------------------- ------------- 6/9 [torch]\n",
      "   -------------------------- ------------- 6/9 [torch]\n",
      "   -------------------------- ------------- 6/9 [torch]\n",
      "   -------------------------- ------------- 6/9 [torch]\n",
      "   -------------------------- ------------- 6/9 [torch]\n",
      "   -------------------------- ------------- 6/9 [torch]\n",
      "   -------------------------- ------------- 6/9 [torch]\n",
      "   -------------------------- ------------- 6/9 [torch]\n",
      "   -------------------------- ------------- 6/9 [torch]\n",
      "   -------------------------- ------------- 6/9 [torch]\n",
      "   -------------------------- ------------- 6/9 [torch]\n",
      "   -------------------------- ------------- 6/9 [torch]\n",
      "   -------------------------- ------------- 6/9 [torch]\n",
      "   -------------------------- ------------- 6/9 [torch]\n",
      "   -------------------------- ------------- 6/9 [torch]\n",
      "   -------------------------- ------------- 6/9 [torch]\n",
      "   -------------------------- ------------- 6/9 [torch]\n",
      "   -------------------------- ------------- 6/9 [torch]\n",
      "   -------------------------- ------------- 6/9 [torch]\n",
      "   -------------------------- ------------- 6/9 [torch]\n",
      "   -------------------------- ------------- 6/9 [torch]\n",
      "   -------------------------- ------------- 6/9 [torch]\n",
      "   -------------------------- ------------- 6/9 [torch]\n",
      "   -------------------------- ------------- 6/9 [torch]\n",
      "   -------------------------- ------------- 6/9 [torch]\n",
      "   -------------------------- ------------- 6/9 [torch]\n",
      "   -------------------------- ------------- 6/9 [torch]\n",
      "   -------------------------- ------------- 6/9 [torch]\n",
      "   -------------------------- ------------- 6/9 [torch]\n",
      "   -------------------------- ------------- 6/9 [torch]\n",
      "   -------------------------- ------------- 6/9 [torch]\n",
      "   -------------------------- ------------- 6/9 [torch]\n",
      "   -------------------------- ------------- 6/9 [torch]\n",
      "   -------------------------- ------------- 6/9 [torch]\n",
      "   -------------------------- ------------- 6/9 [torch]\n",
      "Note: you may need to restart the kernel to use updated packages.\n",
      "   -------------------------- ------------- 6/9 [torch]\n",
      "   -------------------------- ------------- 6/9 [torch]\n",
      "   -------------------------- ------------- 6/9 [torch]\n",
      "   -------------------------- ------------- 6/9 [torch]\n",
      "   -------------------------- ------------- 6/9 [torch]\n",
      "   -------------------------- ------------- 6/9 [torch]\n",
      "   -------------------------- ------------- 6/9 [torch]\n",
      "   -------------------------- ------------- 6/9 [torch]\n",
      "   -------------------------- ------------- 6/9 [torch]\n",
      "   -------------------------- ------------- 6/9 [torch]\n",
      "   -------------------------- ------------- 6/9 [torch]\n",
      "   -------------------------- ------------- 6/9 [torch]\n",
      "   -------------------------- ------------- 6/9 [torch]\n",
      "   -------------------------- ------------- 6/9 [torch]\n",
      "   -------------------------- ------------- 6/9 [torch]\n",
      "   -------------------------- ------------- 6/9 [torch]\n",
      "   -------------------------- ------------- 6/9 [torch]\n",
      "   -------------------------- ------------- 6/9 [torch]\n",
      "   -------------------------- ------------- 6/9 [torch]\n",
      "   -------------------------- ------------- 6/9 [torch]\n",
      "   -------------------------- ------------- 6/9 [torch]\n",
      "   -------------------------- ------------- 6/9 [torch]\n",
      "   -------------------------- ------------- 6/9 [torch]\n",
      "   -------------------------- ------------- 6/9 [torch]\n",
      "   -------------------------- ------------- 6/9 [torch]\n",
      "   -------------------------- ------------- 6/9 [torch]\n",
      "   -------------------------- ------------- 6/9 [torch]\n",
      "   -------------------------- ------------- 6/9 [torch]\n",
      "   -------------------------- ------------- 6/9 [torch]\n",
      "   -------------------------- ------------- 6/9 [torch]\n",
      "   -------------------------- ------------- 6/9 [torch]\n",
      "   -------------------------- ------------- 6/9 [torch]\n",
      "   -------------------------- ------------- 6/9 [torch]\n",
      "   ------------------------------- -------- 7/9 [torchvision]\n",
      "   ------------------------------- -------- 7/9 [torchvision]\n",
      "   ------------------------------- -------- 7/9 [torchvision]\n",
      "   ------------------------------- -------- 7/9 [torchvision]\n",
      "   ------------------------------- -------- 7/9 [torchvision]\n",
      "   ------------------------------- -------- 7/9 [torchvision]\n",
      "   ------------------------------- -------- 7/9 [torchvision]\n",
      "   ------------------------------- -------- 7/9 [torchvision]\n",
      "   ------------------------------- -------- 7/9 [torchvision]\n",
      "   ------------------------------- -------- 7/9 [torchvision]\n",
      "   ------------------------------- -------- 7/9 [torchvision]\n",
      "   ------------------------------- -------- 7/9 [torchvision]\n",
      "   ------------------------------- -------- 7/9 [torchvision]\n",
      "   ------------------------------- -------- 7/9 [torchvision]\n",
      "   ------------------------------- -------- 7/9 [torchvision]\n",
      "   ------------------------------- -------- 7/9 [torchvision]\n",
      "   ------------------------------- -------- 7/9 [torchvision]\n",
      "   ------------------------------- -------- 7/9 [torchvision]\n",
      "   ------------------------------- -------- 7/9 [torchvision]\n",
      "   ------------------------------- -------- 7/9 [torchvision]\n",
      "   ------------------------------- -------- 7/9 [torchvision]\n",
      "   ------------------------------- -------- 7/9 [torchvision]\n",
      "   ------------------------------- -------- 7/9 [torchvision]\n",
      "   ------------------------------- -------- 7/9 [torchvision]\n",
      "   ------------------------------- -------- 7/9 [torchvision]\n",
      "   ------------------------------- -------- 7/9 [torchvision]\n",
      "   ------------------------------- -------- 7/9 [torchvision]\n",
      "   ------------------------------- -------- 7/9 [torchvision]\n",
      "   ------------------------------- -------- 7/9 [torchvision]\n",
      "   ------------------------------- -------- 7/9 [torchvision]\n",
      "   ------------------------------- -------- 7/9 [torchvision]\n",
      "   ------------------------------- -------- 7/9 [torchvision]\n",
      "   ------------------------------- -------- 7/9 [torchvision]\n",
      "   ------------------------------- -------- 7/9 [torchvision]\n",
      "   ------------------------------- -------- 7/9 [torchvision]\n",
      "   ------------------------------- -------- 7/9 [torchvision]\n",
      "   ----------------------------------- ---- 8/9 [torchaudio]\n",
      "   ----------------------------------- ---- 8/9 [torchaudio]\n",
      "   ----------------------------------- ---- 8/9 [torchaudio]\n",
      "   ----------------------------------- ---- 8/9 [torchaudio]\n",
      "   ----------------------------------- ---- 8/9 [torchaudio]\n",
      "   ----------------------------------- ---- 8/9 [torchaudio]\n",
      "   ----------------------------------- ---- 8/9 [torchaudio]\n",
      "   ----------------------------------- ---- 8/9 [torchaudio]\n",
      "   ----------------------------------- ---- 8/9 [torchaudio]\n",
      "   ----------------------------------- ---- 8/9 [torchaudio]\n",
      "   ----------------------------------- ---- 8/9 [torchaudio]\n",
      "   ----------------------------------- ---- 8/9 [torchaudio]\n",
      "   ----------------------------------- ---- 8/9 [torchaudio]\n",
      "   ----------------------------------- ---- 8/9 [torchaudio]\n",
      "   ----------------------------------- ---- 8/9 [torchaudio]\n",
      "   ----------------------------------- ---- 8/9 [torchaudio]\n",
      "   ----------------------------------- ---- 8/9 [torchaudio]\n",
      "   ----------------------------------- ---- 8/9 [torchaudio]\n",
      "   ----------------------------------- ---- 8/9 [torchaudio]\n",
      "   ----------------------------------- ---- 8/9 [torchaudio]\n",
      "   ----------------------------------- ---- 8/9 [torchaudio]\n",
      "   ----------------------------------- ---- 8/9 [torchaudio]\n",
      "   ----------------------------------- ---- 8/9 [torchaudio]\n",
      "   ----------------------------------- ---- 8/9 [torchaudio]\n",
      "   ----------------------------------- ---- 8/9 [torchaudio]\n",
      "   ----------------------------------- ---- 8/9 [torchaudio]\n",
      "   ----------------------------------- ---- 8/9 [torchaudio]\n",
      "   ----------------------------------- ---- 8/9 [torchaudio]\n",
      "   ----------------------------------- ---- 8/9 [torchaudio]\n",
      "   ---------------------------------------- 9/9 [torchaudio]\n",
      "\n",
      "Successfully installed filelock-3.18.0 fsspec-2025.7.0 mpmath-1.3.0 networkx-3.5 sympy-1.14.0 torch-2.7.1 torchaudio-2.7.1 torchvision-0.22.1 typing-extensions-4.14.1\n"
     ]
    }
   ],
   "source": [
    "pip install torch torchvision torchaudio\n"
   ]
  },
  {
   "cell_type": "markdown",
   "id": "e8501491-f3a1-4944-b2fc-f04560d957a2",
   "metadata": {},
   "source": [
    "IMPLEMENTING A DATA LOADER"
   ]
  },
  {
   "cell_type": "code",
   "execution_count": 36,
   "id": "122c7f40-bcf0-4508-b9bb-3d08976288c2",
   "metadata": {},
   "outputs": [],
   "source": [
    "from torch.utils.data import Dataset, DataLoader\n",
    "\n",
    "\n",
    "class GPTDatasetV1(Dataset):\n",
    "    def __init__(self, txt, tokenizer, max_length, stride):\n",
    "        self.input_ids = []\n",
    "        self.target_ids = []\n",
    "\n",
    "        # Tokenize the entire text\n",
    "        token_ids = tokenizer.encode(txt, allowed_special={\"<|endoftext|>\"})\n",
    "\n",
    "        # Use a sliding window to chunk the book into overlapping sequences of max_length\n",
    "        for i in range(0, len(token_ids) - max_length, stride):\n",
    "            input_chunk = token_ids[i:i + max_length]\n",
    "            target_chunk = token_ids[i + 1: i + max_length + 1]\n",
    "            self.input_ids.append(torch.tensor(input_chunk))\n",
    "            self.target_ids.append(torch.tensor(target_chunk))\n",
    "\n",
    "    def __len__(self):\n",
    "        return len(self.input_ids)\n",
    "\n",
    "    def __getitem__(self, idx):\n",
    "        return self.input_ids[idx], self.target_ids[idx]"
   ]
  },
  {
   "cell_type": "code",
   "execution_count": 37,
   "id": "95b574ff-ea35-4eb9-9e42-bb8061af7a38",
   "metadata": {},
   "outputs": [],
   "source": [
    "def create_dataloader_v1(txt, batch_size=4, max_length=256, \n",
    "                         stride=128, shuffle=True, drop_last=True,\n",
    "                         num_workers=0):\n",
    "\n",
    "    # Initialize the tokenizer\n",
    "    tokenizer = tiktoken.get_encoding(\"gpt2\")\n",
    "\n",
    "    # Create dataset\n",
    "    dataset = GPTDatasetV1(txt, tokenizer, max_length, stride)\n",
    "\n",
    "    # Create dataloader\n",
    "    dataloader = DataLoader(\n",
    "        dataset,\n",
    "        batch_size=batch_size,\n",
    "        shuffle=shuffle,\n",
    "        drop_last=drop_last,\n",
    "        num_workers=num_workers\n",
    "    )\n",
    "\n",
    "    return dataloader"
   ]
  },
  {
   "cell_type": "code",
   "execution_count": 38,
   "id": "5987c1ce-6053-4e13-91fd-6fc8542dfddf",
   "metadata": {},
   "outputs": [],
   "source": [
    "with open(\"the-verdict.txt\", \"r\", encoding=\"utf-8\") as f:\n",
    "    raw_text = f.read()"
   ]
  },
  {
   "cell_type": "code",
   "execution_count": 39,
   "id": "973c5468-39bd-4db3-8b5e-d6129e4e1fc5",
   "metadata": {},
   "outputs": [
    {
     "name": "stdout",
     "output_type": "stream",
     "text": [
      "PyTorch version: 2.7.1+cpu\n",
      "[tensor([[  40,  367, 2885, 1464]]), tensor([[ 367, 2885, 1464, 1807]])]\n"
     ]
    }
   ],
   "source": [
    "import torch\n",
    "print(\"PyTorch version:\", torch.__version__)\n",
    "dataloader = create_dataloader_v1(\n",
    "    raw_text, batch_size=1, max_length=4, stride=1, shuffle=False\n",
    ")\n",
    "\n",
    "data_iter = iter(dataloader)\n",
    "first_batch = next(data_iter)\n",
    "print(first_batch)"
   ]
  },
  {
   "cell_type": "code",
   "execution_count": 40,
   "id": "a96ee5ad-af31-4bfa-9d8b-f2dc1d0b8037",
   "metadata": {},
   "outputs": [
    {
     "name": "stdout",
     "output_type": "stream",
     "text": [
      "[tensor([[ 367, 2885, 1464, 1807]]), tensor([[2885, 1464, 1807, 3619]])]\n"
     ]
    }
   ],
   "source": [
    "second_batch = next(data_iter)\n",
    "print(second_batch)"
   ]
  },
  {
   "cell_type": "code",
   "execution_count": 41,
   "id": "1c8b8078-9d5b-4d92-baa8-76be07aaef93",
   "metadata": {},
   "outputs": [
    {
     "name": "stdout",
     "output_type": "stream",
     "text": [
      "Inputs:\n",
      " tensor([[   40,   367,  2885,  1464],\n",
      "        [ 1807,  3619,   402,   271],\n",
      "        [10899,  2138,   257,  7026],\n",
      "        [15632,   438,  2016,   257],\n",
      "        [  922,  5891,  1576,   438],\n",
      "        [  568,   340,   373,   645],\n",
      "        [ 1049,  5975,   284,   502],\n",
      "        [  284,  3285,   326,    11]])\n",
      "\n",
      "Targets:\n",
      " tensor([[  367,  2885,  1464,  1807],\n",
      "        [ 3619,   402,   271, 10899],\n",
      "        [ 2138,   257,  7026, 15632],\n",
      "        [  438,  2016,   257,   922],\n",
      "        [ 5891,  1576,   438,   568],\n",
      "        [  340,   373,   645,  1049],\n",
      "        [ 5975,   284,   502,   284],\n",
      "        [ 3285,   326,    11,   287]])\n"
     ]
    }
   ],
   "source": [
    "dataloader = create_dataloader_v1(raw_text, batch_size=8, max_length=4, stride=4, shuffle=False)\n",
    "\n",
    "data_iter = iter(dataloader)\n",
    "inputs, targets = next(data_iter)\n",
    "print(\"Inputs:\\n\", inputs)\n",
    "print(\"\\nTargets:\\n\", targets)"
   ]
  },
  {
   "cell_type": "markdown",
   "id": "a65d9565-2256-49a2-82c2-59fb5c5e2d93",
   "metadata": {},
   "source": [
    "CREATE TOKEN EMBEDDINGS"
   ]
  },
  {
   "cell_type": "code",
   "execution_count": 42,
   "id": "c1e90f65-369c-441e-bf51-fcf0796e59a4",
   "metadata": {},
   "outputs": [],
   "source": [
    "input_ids = torch.tensor([2, 3, 5, 1])"
   ]
  },
  {
   "cell_type": "code",
   "execution_count": 43,
   "id": "f5f80bc1-14bd-4ecb-84c2-d7a32049bcdf",
   "metadata": {},
   "outputs": [],
   "source": [
    "vocab_size = 6\n",
    "output_dim = 3\n",
    "\n",
    "torch.manual_seed(123)\n",
    "embedding_layer = torch.nn.Embedding(vocab_size, output_dim)"
   ]
  },
  {
   "cell_type": "code",
   "execution_count": 44,
   "id": "7f91ee03-5a2c-46c6-aa66-ea85d6e3b3b7",
   "metadata": {},
   "outputs": [
    {
     "name": "stdout",
     "output_type": "stream",
     "text": [
      "Parameter containing:\n",
      "tensor([[ 0.3374, -0.1778, -0.1690],\n",
      "        [ 0.9178,  1.5810,  1.3010],\n",
      "        [ 1.2753, -0.2010, -0.1606],\n",
      "        [-0.4015,  0.9666, -1.1481],\n",
      "        [-1.1589,  0.3255, -0.6315],\n",
      "        [-2.8400, -0.7849, -1.4096]], requires_grad=True)\n"
     ]
    }
   ],
   "source": [
    "print(embedding_layer.weight)"
   ]
  },
  {
   "cell_type": "code",
   "execution_count": 45,
   "id": "751325ce-8d3d-4454-9c58-9c6b3828585b",
   "metadata": {},
   "outputs": [
    {
     "name": "stdout",
     "output_type": "stream",
     "text": [
      "tensor([[-0.4015,  0.9666, -1.1481]], grad_fn=<EmbeddingBackward0>)\n"
     ]
    }
   ],
   "source": [
    "print(embedding_layer(torch.tensor([3])))"
   ]
  },
  {
   "cell_type": "code",
   "execution_count": 46,
   "id": "9786e89d-af3a-4f1a-8e12-b99e1869fd2d",
   "metadata": {},
   "outputs": [
    {
     "name": "stdout",
     "output_type": "stream",
     "text": [
      "tensor([[ 1.2753, -0.2010, -0.1606],\n",
      "        [-0.4015,  0.9666, -1.1481],\n",
      "        [-2.8400, -0.7849, -1.4096],\n",
      "        [ 0.9178,  1.5810,  1.3010]], grad_fn=<EmbeddingBackward0>)\n"
     ]
    }
   ],
   "source": [
    "print(embedding_layer(input_ids))"
   ]
  },
  {
   "cell_type": "markdown",
   "id": "1d106399-26b2-47a0-a1ac-34e1e537d1a5",
   "metadata": {},
   "source": [
    "POSITIONAL EMBEDDINGS (ENCODING WORD POSITIONS)"
   ]
  },
  {
   "cell_type": "code",
   "execution_count": 47,
   "id": "d62fa420-0496-4d63-a89f-d1388ed14695",
   "metadata": {},
   "outputs": [],
   "source": [
    "vocab_size = 50257\n",
    "output_dim = 256\n",
    "\n",
    "token_embedding_layer = torch.nn.Embedding(vocab_size, output_dim)"
   ]
  },
  {
   "cell_type": "code",
   "execution_count": 48,
   "id": "1e4e2db6-5f3b-46f7-a467-de31fd871172",
   "metadata": {},
   "outputs": [],
   "source": [
    "max_length = 4\n",
    "dataloader = create_dataloader_v1(\n",
    "    raw_text, batch_size=8, max_length=max_length,\n",
    "    stride=max_length, shuffle=False\n",
    ")\n",
    "data_iter = iter(dataloader)\n",
    "inputs, targets = next(data_iter)"
   ]
  },
  {
   "cell_type": "code",
   "execution_count": 49,
   "id": "b9aa7c5f-36c6-4284-99dc-c8a6d7866eef",
   "metadata": {},
   "outputs": [
    {
     "name": "stdout",
     "output_type": "stream",
     "text": [
      "Token IDs:\n",
      " tensor([[   40,   367,  2885,  1464],\n",
      "        [ 1807,  3619,   402,   271],\n",
      "        [10899,  2138,   257,  7026],\n",
      "        [15632,   438,  2016,   257],\n",
      "        [  922,  5891,  1576,   438],\n",
      "        [  568,   340,   373,   645],\n",
      "        [ 1049,  5975,   284,   502],\n",
      "        [  284,  3285,   326,    11]])\n",
      "\n",
      "Inputs shape:\n",
      " torch.Size([8, 4])\n"
     ]
    }
   ],
   "source": [
    "print(\"Token IDs:\\n\", inputs)\n",
    "print(\"\\nInputs shape:\\n\", inputs.shape)"
   ]
  },
  {
   "cell_type": "code",
   "execution_count": 50,
   "id": "585295bf-95b4-4e30-b0ec-34100d34f925",
   "metadata": {},
   "outputs": [
    {
     "name": "stdout",
     "output_type": "stream",
     "text": [
      "torch.Size([8, 4, 256])\n"
     ]
    }
   ],
   "source": [
    "token_embeddings = token_embedding_layer(inputs)\n",
    "print(token_embeddings.shape)"
   ]
  },
  {
   "cell_type": "code",
   "execution_count": 51,
   "id": "c9728da4-98a3-4eb7-827f-be29619ae9f7",
   "metadata": {},
   "outputs": [],
   "source": [
    "context_length = max_length\n",
    "pos_embedding_layer = torch.nn.Embedding(context_length, output_dim)"
   ]
  },
  {
   "cell_type": "code",
   "execution_count": 52,
   "id": "ed6a09f0-856a-4730-91f3-c6499777bf65",
   "metadata": {},
   "outputs": [
    {
     "name": "stdout",
     "output_type": "stream",
     "text": [
      "torch.Size([4, 256])\n"
     ]
    }
   ],
   "source": [
    "pos_embeddings = pos_embedding_layer(torch.arange(max_length))\n",
    "print(pos_embeddings.shape)"
   ]
  },
  {
   "cell_type": "code",
   "execution_count": 53,
   "id": "2c292626-293d-4a13-b923-8b040346ba21",
   "metadata": {},
   "outputs": [
    {
     "name": "stdout",
     "output_type": "stream",
     "text": [
      "torch.Size([8, 4, 256])\n"
     ]
    }
   ],
   "source": [
    "input_embeddings = token_embeddings + pos_embeddings\n",
    "print(input_embeddings.shape)"
   ]
  },
  {
   "cell_type": "code",
   "execution_count": null,
   "id": "ffaec917-6796-466f-a531-0e8f825580eb",
   "metadata": {},
   "outputs": [],
   "source": []
  }
 ],
 "metadata": {
  "kernelspec": {
   "display_name": "Python 3 (ipykernel)",
   "language": "python",
   "name": "python3"
  },
  "language_info": {
   "codemirror_mode": {
    "name": "ipython",
    "version": 3
   },
   "file_extension": ".py",
   "mimetype": "text/x-python",
   "name": "python",
   "nbconvert_exporter": "python",
   "pygments_lexer": "ipython3",
   "version": "3.11.4"
  }
 },
 "nbformat": 4,
 "nbformat_minor": 5
}
